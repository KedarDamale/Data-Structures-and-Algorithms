{
 "cells": [
  {
   "cell_type": "markdown",
   "id": "a5cc14d8",
   "metadata": {},
   "source": [
    "# **Min-heap**"
   ]
  },
  {
   "cell_type": "code",
   "execution_count": 49,
   "id": "22f1416e",
   "metadata": {},
   "outputs": [],
   "source": [
    "#heapq library\n",
    "\n",
    "import heapq "
   ]
  },
  {
   "cell_type": "code",
   "execution_count": 50,
   "id": "a1fbd678",
   "metadata": {},
   "outputs": [],
   "source": [
    "arr=[-4,3,1,0,2,5,10,8,12,9]\n",
    "#this is the node values of elements (order is not necessary)"
   ]
  },
  {
   "cell_type": "code",
   "execution_count": 51,
   "id": "687ff59e",
   "metadata": {},
   "outputs": [
    {
     "name": "stdout",
     "output_type": "stream",
     "text": [
      "[-4, 0, 1, 3, 2, 5, 10, 8, 12, 9]\n"
     ]
    }
   ],
   "source": [
    "heapq.heapify(arr) #thsi will arrange out array in heap tree \n",
    "\n",
    "print(arr)"
   ]
  },
  {
   "cell_type": "code",
   "execution_count": 52,
   "id": "f418cd5b",
   "metadata": {},
   "outputs": [
    {
     "name": "stdout",
     "output_type": "stream",
     "text": [
      "-4\n"
     ]
    }
   ],
   "source": [
    "#peeking into minheap\n",
    "\n",
    "print(arr[0])"
   ]
  },
  {
   "cell_type": "code",
   "execution_count": 53,
   "id": "b3ca62a7",
   "metadata": {},
   "outputs": [
    {
     "name": "stdout",
     "output_type": "stream",
     "text": [
      "[-4, 0, 1, 3, 2, 5, 10, 8, 12, 9, 44]\n"
     ]
    }
   ],
   "source": [
    "#inserting element in heap O(logn)\n",
    "\n",
    "heapq.heappush(arr,44)\n",
    "\n",
    "print(arr)"
   ]
  },
  {
   "cell_type": "code",
   "execution_count": 54,
   "id": "8a20a708",
   "metadata": {},
   "outputs": [
    {
     "name": "stdout",
     "output_type": "stream",
     "text": [
      "Heap before popping: [-4, 0, 1, 3, 2, 5, 10, 8, 12, 9, 44]\n",
      "Heap after popping: [0, 2, 1, 3, 9, 5, 10, 8, 12, 44] and popped element is -4\n"
     ]
    }
   ],
   "source": [
    "#deleting the minimum value i.e popping first element\n",
    "\n",
    "\n",
    "print(f\"Heap before popping: {arr}\")\n",
    "min=heapq.heappop(arr)\n",
    "print(f\"Heap after popping: {arr} and popped element is {min}\")\n"
   ]
  },
  {
   "cell_type": "code",
   "execution_count": 55,
   "id": "de266e08",
   "metadata": {},
   "outputs": [
    {
     "name": "stdout",
     "output_type": "stream",
     "text": [
      "[1, 2, 5, 3, 9, 99, 10, 8, 12, 44]\n",
      "0\n"
     ]
    }
   ],
   "source": [
    "#heap push pop pushing one element and popping after O(log n)\n",
    "\n",
    "a=heapq.heappushpop(arr,99) #pop element of arr and then push 99 in it\n",
    "print(arr)\n",
    "print(a)\n"
   ]
  },
  {
   "cell_type": "markdown",
   "id": "e079322d",
   "metadata": {},
   "source": [
    "# **Max heap**"
   ]
  },
  {
   "cell_type": "code",
   "execution_count": 56,
   "id": "d17403ec",
   "metadata": {},
   "outputs": [
    {
     "name": "stdout",
     "output_type": "stream",
     "text": [
      "[-12, -9, -10, -8, -2, -5, -1, -3, 0, 4]\n"
     ]
    }
   ],
   "source": [
    "#ther is no package to implement max heap but we use -minheap for maxheap\n",
    "\n",
    "arr2=[-4,3,1,0,2,5,10,8,12,9]\n",
    "for i in range(len(arr2)):\n",
    "    arr2[i]=-arr2[i]\n",
    "    \n",
    "\n",
    "\n",
    "#do you thing now (operations)\n",
    "\n",
    "heapq.heapify(arr2)\n",
    "\n",
    "print(arr2)"
   ]
  },
  {
   "cell_type": "code",
   "execution_count": 57,
   "id": "79995eed",
   "metadata": {},
   "outputs": [
    {
     "name": "stdout",
     "output_type": "stream",
     "text": [
      "12\n"
     ]
    }
   ],
   "source": [
    "largest=-heapq.heappop(arr2)\n",
    "print(largest) #- cause our largest number is -ve in heap but we want that as +v\n",
    "\n",
    "\n",
    "#to push\n",
    "heapq.heappush(arr2,-7) #we want to store 7 but we will give in -ve 7"
   ]
  },
  {
   "cell_type": "markdown",
   "id": "412d7cc6",
   "metadata": {},
   "source": [
    "# **Heap sort**"
   ]
  },
  {
   "cell_type": "code",
   "execution_count": 58,
   "id": "207116b9",
   "metadata": {},
   "outputs": [
    {
     "data": {
      "text/plain": [
       "[-4, 0, 1, 2, 3, 5, 8, 9, 10, 12]"
      ]
     },
     "execution_count": 58,
     "metadata": {},
     "output_type": "execute_result"
    }
   ],
   "source": [
    "#Heap sort O(nlogn) heapify will return a tree that is just satisfyinh heap but heap sort will return sorted tree\n",
    "\n",
    "import heapq\n",
    "\n",
    "def heapsort(arr):\n",
    "    # Step 1: Convert the input list into a valid min-heap\n",
    "    heapq.heapify(arr)\n",
    "    \n",
    "    # Step 2: Create an empty list to store sorted elements\n",
    "    sorted_list = []\n",
    "\n",
    "    # Step 3: Repeatedly pop the smallest element from the heap and append it to the sorted list\n",
    "    while arr:\n",
    "        smallest = heapq.heappop(arr)\n",
    "        sorted_list.append(smallest)\n",
    "    \n",
    "    # Step 4: Return the sorted result\n",
    "    return sorted_list\n",
    "\n",
    "heapsort([-4,3,1,0,2,5,10,8,12,9])"
   ]
  }
 ],
 "metadata": {
  "kernelspec": {
   "display_name": "Python 3",
   "language": "python",
   "name": "python3"
  },
  "language_info": {
   "codemirror_mode": {
    "name": "ipython",
    "version": 3
   },
   "file_extension": ".py",
   "mimetype": "text/x-python",
   "name": "python",
   "nbconvert_exporter": "python",
   "pygments_lexer": "ipython3",
   "version": "3.11.7"
  }
 },
 "nbformat": 4,
 "nbformat_minor": 5
}
