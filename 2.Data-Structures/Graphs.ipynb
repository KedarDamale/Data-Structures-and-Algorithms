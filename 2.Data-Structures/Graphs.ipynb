{
 "cells": [
  {
   "cell_type": "code",
   "execution_count": 11,
   "id": "354b207e",
   "metadata": {},
   "outputs": [
    {
     "name": "stdout",
     "output_type": "stream",
     "text": [
      "[1461]\n"
     ]
    }
   ],
   "source": [
    "s = []\n",
    "l = [567, 1500, 1354, 1461]\n",
    "\n",
    "for i in l:\n",
    "    if (i - 21) % 12 == 0 and (i - 21) % 16 == 0 and (i - 21) % 18 == 0:\n",
    "        s.append(i)\n",
    "\n",
    "print(s)\n"
   ]
  }
 ],
 "metadata": {
  "kernelspec": {
   "display_name": "Python 3",
   "language": "python",
   "name": "python3"
  },
  "language_info": {
   "codemirror_mode": {
    "name": "ipython",
    "version": 3
   },
   "file_extension": ".py",
   "mimetype": "text/x-python",
   "name": "python",
   "nbconvert_exporter": "python",
   "pygments_lexer": "ipython3",
   "version": "3.11.7"
  }
 },
 "nbformat": 4,
 "nbformat_minor": 5
}
