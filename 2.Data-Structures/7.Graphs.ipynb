{
 "cells": [
  {
   "cell_type": "code",
   "execution_count": null,
   "id": "6f77adda",
   "metadata": {},
   "outputs": [],
   "source": [
    "#notes on graph with DFS and BFS are present in notebook \n",
    "#coding a graph is too hard so lets do it later"
   ]
  }
 ],
 "metadata": {
  "language_info": {
   "name": "python"
  }
 },
 "nbformat": 4,
 "nbformat_minor": 5
}
