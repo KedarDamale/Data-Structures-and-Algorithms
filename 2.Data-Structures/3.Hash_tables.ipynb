{
 "cells": [
  {
   "cell_type": "code",
   "execution_count": 12,
   "id": "f1339f43",
   "metadata": {},
   "outputs": [],
   "source": [
    "#Hash tables - Hash functions\n",
    "#            - Hash sets\n",
    "#            - Hash maps"
   ]
  },
  {
   "cell_type": "markdown",
   "id": "ad12050d",
   "metadata": {},
   "source": [
    "# **Hash Set**"
   ]
  },
  {
   "cell_type": "code",
   "execution_count": 13,
   "id": "76bc1e6c",
   "metadata": {},
   "outputs": [],
   "source": [
    "#Creating hash set\n",
    "\n",
    "s=set() #empty set"
   ]
  },
  {
   "cell_type": "code",
   "execution_count": 14,
   "id": "7b41ff24",
   "metadata": {},
   "outputs": [
    {
     "name": "stdout",
     "output_type": "stream",
     "text": [
      "{56, 34, 2}\n"
     ]
    }
   ],
   "source": [
    "#Adding an item in hash set O(1)\n",
    "\n",
    "s.add(34)\n",
    "s.add(2)\n",
    "s.add(56)\n",
    "\n",
    "print(s)"
   ]
  },
  {
   "cell_type": "code",
   "execution_count": 15,
   "id": "53f8026a",
   "metadata": {},
   "outputs": [
    {
     "name": "stdout",
     "output_type": "stream",
     "text": [
      "False\n",
      "True\n"
     ]
    }
   ],
   "source": [
    "#lookup in the set O(1)\n",
    "\n",
    "print(True if 45 in s else False)\n",
    "print(True if 56 in s else False)"
   ]
  },
  {
   "cell_type": "code",
   "execution_count": 16,
   "id": "4270c899",
   "metadata": {},
   "outputs": [
    {
     "name": "stdout",
     "output_type": "stream",
     "text": [
      "Hash set before removal: {56, 34, 2}\n",
      "Hash set after removal: {56, 34}\n"
     ]
    }
   ],
   "source": [
    "#removing something from the set O(1)\n",
    "\n",
    "print(f\"Hash set before removal: {s}\")\n",
    "s.remove(2) #will throw error if we are trying to remove somthing which is not present\n",
    "print(f\"Hash set after removal: {s}\")\n"
   ]
  },
  {
   "cell_type": "code",
   "execution_count": 19,
   "id": "84f8dd08",
   "metadata": {},
   "outputs": [
    {
     "name": "stdout",
     "output_type": "stream",
     "text": [
      "Generated hash set is {'r', 'g', 'h', 's', 'v', 'a', 'f', 'c', 'd', 'w', 'i', 'e', 'b', 'u', 'y', 'k'}\n",
      "True\n",
      "True\n"
     ]
    }
   ],
   "source": [
    "#Use of hash sets\n",
    "\n",
    "#lets say we have a string and we want to constantly check if a letter is in the string or not\n",
    "#instead of looping through entire list We can convert the string into a hash set, and then check membership in O(1) time, without looping\n",
    "\"\"\"\n",
    "set(s) automatically removes duplicates and creates a collection of unique characters.\n",
    "If you're checking many membership queries (e.g., \"is this character in the string?\"), converting to a set once and then using that set for all lookups saves time.\n",
    "\"\"\"\n",
    "\n",
    "s=\"aaaaaaaabbbbbbbbccccccccddddddddrrrrrrrrgggggkkkkkeghasgihgdiuhhsdrfhuksdhuyfguidsgfvusdgbfhuygvudbhuigfvbuwdsbcdysvyufvusv\"\n",
    "\n",
    "set_s=set(s)\n",
    "\n",
    "print(f\"Generated hash set is {set_s}\")\n",
    "print(True if 'k' in s else False) #O(n)\n",
    "print(True if 'k' in set_s else False) #O(1) relative to number of elements "
   ]
  },
  {
   "cell_type": "markdown",
   "id": "f4dfe53f",
   "metadata": {},
   "source": [
    "# **Hash maps**"
   ]
  },
  {
   "cell_type": "code",
   "execution_count": 21,
   "id": "1f2b2a77",
   "metadata": {},
   "outputs": [],
   "source": [
    "d= {} # this is a set not a dictionary\n",
    "\n",
    "d=dict() #this is an empty dictionary\n",
    "\n",
    "#key of the dict has to be hashable (int,string,tuple) , value can be anything another dict,arrays,2d array pretty much anything doesnt hav eto be hashable"
   ]
  },
  {
   "cell_type": "code",
   "execution_count": null,
   "id": "b175d98b",
   "metadata": {},
   "outputs": [
    {
     "name": "stdout",
     "output_type": "stream",
     "text": [
      "{'Kedar': 20}\n"
     ]
    }
   ],
   "source": [
    "#adding elements (k:v) to dictionary O(1)\n",
    "\n",
    "d['Kedar']=20 #kedar is key and 20 is its value\n",
    "\n",
    "print(d)"
   ]
  },
  {
   "cell_type": "code",
   "execution_count": 23,
   "id": "34bf7c38",
   "metadata": {},
   "outputs": [
    {
     "name": "stdout",
     "output_type": "stream",
     "text": [
      "True\n"
     ]
    }
   ],
   "source": [
    "#Checking if a key exists in dict O(1)\n",
    "\n",
    "print(True if 'Kedar' in d else False)"
   ]
  },
  {
   "cell_type": "code",
   "execution_count": null,
   "id": "a0cb1f67",
   "metadata": {},
   "outputs": [
    {
     "name": "stdout",
     "output_type": "stream",
     "text": [
      "20\n"
     ]
    }
   ],
   "source": [
    "#check for the value corresonding to the key in a dict\n",
    "\n",
    "print(d['Kedar']) #if key is not in dict it will throw an error"
   ]
  },
  {
   "cell_type": "code",
   "execution_count": 26,
   "id": "1d1a34c0",
   "metadata": {},
   "outputs": [
    {
     "name": "stdout",
     "output_type": "stream",
     "text": [
      "Kedar:20\n"
     ]
    }
   ],
   "source": [
    "#loop over key value pairs O(n)\n",
    "\n",
    "for key,val in d.items():  #items give two attributes keys and values which are mapped to key and val\n",
    "    print(f\"{key}:{val}\")"
   ]
  },
  {
   "cell_type": "code",
   "execution_count": null,
   "id": "be26a3b9",
   "metadata": {},
   "outputs": [
    {
     "name": "stdout",
     "output_type": "stream",
     "text": [
      "Kedar\n",
      "Kedar\n"
     ]
    }
   ],
   "source": [
    "#loop over keys an retrieve O(n)\n",
    "\n",
    "for key in d:\n",
    "    print(key)\n",
    "    \n",
    "# for key in d.keys():  #same thing as above looping over d means looping over keys\n",
    "#     print(key)\n"
   ]
  },
  {
   "cell_type": "code",
   "execution_count": 31,
   "id": "ea5aad53",
   "metadata": {},
   "outputs": [
    {
     "name": "stdout",
     "output_type": "stream",
     "text": [
      "20\n"
     ]
    }
   ],
   "source": [
    "#loop over values and retrieve O(n)\n",
    "\n",
    "for val in d.values():\n",
    "    print(val)"
   ]
  }
 ],
 "metadata": {
  "kernelspec": {
   "display_name": "Python 3",
   "language": "python",
   "name": "python3"
  },
  "language_info": {
   "codemirror_mode": {
    "name": "ipython",
    "version": 3
   },
   "file_extension": ".py",
   "mimetype": "text/x-python",
   "name": "python",
   "nbconvert_exporter": "python",
   "pygments_lexer": "ipython3",
   "version": "3.11.7"
  }
 },
 "nbformat": 4,
 "nbformat_minor": 5
}
