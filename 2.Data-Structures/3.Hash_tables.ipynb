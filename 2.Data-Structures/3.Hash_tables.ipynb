{
 "cells": [
  {
   "cell_type": "code",
   "execution_count": 12,
   "id": "f1339f43",
   "metadata": {},
   "outputs": [],
   "source": [
    "#Hash tables - Hash functions\n",
    "#            - Hash sets\n",
    "#            - Hash maps"
   ]
  },
  {
   "cell_type": "markdown",
   "id": "ad12050d",
   "metadata": {},
   "source": [
    "# **Hash Set**"
   ]
  },
  {
   "cell_type": "code",
   "execution_count": 13,
   "id": "76bc1e6c",
   "metadata": {},
   "outputs": [],
   "source": [
    "#Creating hash set\n",
    "\n",
    "s=set() #empty set"
   ]
  },
  {
   "cell_type": "code",
   "execution_count": 14,
   "id": "7b41ff24",
   "metadata": {},
   "outputs": [
    {
     "name": "stdout",
     "output_type": "stream",
     "text": [
      "{56, 34, 2}\n"
     ]
    }
   ],
   "source": [
    "#Adding an item in hash set O(1)\n",
    "\n",
    "s.add(34)\n",
    "s.add(2)\n",
    "s.add(56)\n",
    "\n",
    "print(s)"
   ]
  },
  {
   "cell_type": "code",
   "execution_count": 15,
   "id": "53f8026a",
   "metadata": {},
   "outputs": [
    {
     "name": "stdout",
     "output_type": "stream",
     "text": [
      "False\n",
      "True\n"
     ]
    }
   ],
   "source": [
    "#lookup in the set O(1)\n",
    "\n",
    "print(True if 45 in s else False)\n",
    "print(True if 56 in s else False)"
   ]
  },
  {
   "cell_type": "code",
   "execution_count": 16,
   "id": "4270c899",
   "metadata": {},
   "outputs": [
    {
     "name": "stdout",
     "output_type": "stream",
     "text": [
      "Hash set before removal: {56, 34, 2}\n",
      "Hash set after removal: {56, 34}\n"
     ]
    }
   ],
   "source": [
    "#removing something from the set O(1)\n",
    "\n",
    "print(f\"Hash set before removal: {s}\")\n",
    "s.remove(2) #will throw error if we are trying to remove somthing which is not present\n",
    "print(f\"Hash set after removal: {s}\")\n"
   ]
  },
  {
   "cell_type": "code",
   "execution_count": 19,
   "id": "84f8dd08",
   "metadata": {},
   "outputs": [
    {
     "name": "stdout",
     "output_type": "stream",
     "text": [
      "Generated hash set is {'r', 'g', 'h', 's', 'v', 'a', 'f', 'c', 'd', 'w', 'i', 'e', 'b', 'u', 'y', 'k'}\n",
      "True\n",
      "True\n"
     ]
    }
   ],
   "source": [
    "#Use of hash sets\n",
    "\n",
    "#lets say we have a string and we want to constantly check if a letter is in the string or not\n",
    "#instead of looping through entire list We can convert the string into a hash set, and then check membership in O(1) time, without looping\n",
    "\"\"\"\n",
    "set(s) automatically removes duplicates and creates a collection of unique characters.\n",
    "If you're checking many membership queries (e.g., \"is this character in the string?\"), converting to a set once and then using that set for all lookups saves time.\n",
    "\"\"\"\n",
    "\n",
    "s=\"aaaaaaaabbbbbbbbccccccccddddddddrrrrrrrrgggggkkkkkeghasgihgdiuhhsdrfhuksdhuyfguidsgfvusdgbfhuygvudbhuigfvbuwdsbcdysvyufvusv\"\n",
    "\n",
    "set_s=set(s)\n",
    "\n",
    "print(f\"Generated hash set is {set_s}\")\n",
    "print(True if 'k' in s else False) #O(n)\n",
    "print(True if 'k' in set_s else False) #O(1) relative to number of elements "
   ]
  },
  {
   "cell_type": "markdown",
   "id": "f4dfe53f",
   "metadata": {},
   "source": [
    "# **Hash maps**"
   ]
  }
 ],
 "metadata": {
  "kernelspec": {
   "display_name": "Python 3",
   "language": "python",
   "name": "python3"
  },
  "language_info": {
   "codemirror_mode": {
    "name": "ipython",
    "version": 3
   },
   "file_extension": ".py",
   "mimetype": "text/x-python",
   "name": "python",
   "nbconvert_exporter": "python",
   "pygments_lexer": "ipython3",
   "version": "3.11.7"
  }
 },
 "nbformat": 4,
 "nbformat_minor": 5
}
