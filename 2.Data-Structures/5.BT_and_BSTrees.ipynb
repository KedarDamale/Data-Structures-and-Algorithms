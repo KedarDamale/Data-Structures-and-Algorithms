{
 "cells": [
  {
   "cell_type": "code",
   "execution_count": 2,
   "id": "38dd4266",
   "metadata": {},
   "outputs": [
    {
     "data": {
      "text/plain": [
       "'\\nWhat is a Tree (in Data Structures)?\\nA tree is a non-linear, hierarchical data structure consisting of nodes connected by edges. It emulates a tree structure with a root node and sub-nodes (children).\\n\\nTerminilogies in trees\\n\\n| Property    | Description                                   |\\n| ----------- | --------------------------------------------- |\\n| **Node**    | Fundamental unit containing data.             |\\n| **Root**    | The topmost node. Only one per tree.          |\\n| **Edge**    | Connection between one node to another.       |\\n| **Parent**  | A node connected above a node.                |\\n| **Child**   | A node connected below a node.                |\\n| **Leaf**    | A node with no children.                      |\\n| **Degree**  | Number of children a node has.                |\\n| **Depth**   | Distance from the root to the node.           |\\n| **Height**  | Distance from node to its deepest descendant. |\\n| **Subtree** | Any node and its descendants.                 |\\n\\n\\nTypes of trees\\n\\nGeneral Tree: Each node can have any number of children.\\n\\nBinary Tree: Each node can have at most two children.\\n\\nN-ary Tree: Each node can have up to N children.\\n\\nAVL Tree, Red-Black Tree, B-tree, Trie: Specialized trees for efficient searching.\\n\\n'"
      ]
     },
     "execution_count": 2,
     "metadata": {},
     "output_type": "execute_result"
    }
   ],
   "source": [
    "\"\"\"\n",
    "What is a Tree (in Data Structures)?\n",
    "A tree is a non-linear, hierarchical data structure consisting of nodes connected by edges. It emulates a tree structure with a root node and sub-nodes (children).\n",
    "\n",
    "Terminilogies in trees\n",
    "\n",
    "| Property    | Description                                   |\n",
    "| ----------- | --------------------------------------------- |\n",
    "| **Node**    | Fundamental unit containing data.             |\n",
    "| **Root**    | The topmost node. Only one per tree.          |\n",
    "| **Edge**    | Connection between one node to another.       |\n",
    "| **Parent**  | A node connected above a node.                |\n",
    "| **Child**   | A node connected below a node.                |\n",
    "| **Leaf**    | A node with no children.                      |\n",
    "| **Degree**  | Number of children a node has.                |\n",
    "| **Depth**   | Distance from the root to the node.           |\n",
    "| **Height**  | Distance from node to its deepest descendant. |\n",
    "| **Subtree** | Any node and its descendants.                 |\n",
    "\n",
    "\n",
    "Types of trees\n",
    "\n",
    "General Tree: Each node can have any number of children.\n",
    "\n",
    "Binary Tree: Each node can have at most two children.\n",
    "\n",
    "N-ary Tree: Each node can have up to N children.\n",
    "\n",
    "AVL Tree, Red-Black Tree, B-tree, Trie: Specialized trees for efficient searching.\n",
    "\n",
    "\"\"\""
   ]
  },
  {
   "cell_type": "code",
   "execution_count": 6,
   "id": "5cf5d654",
   "metadata": {},
   "outputs": [],
   "source": [
    "class BinaryTree:\n",
    "    def __init__(self,val,left=None,right=None):\n",
    "        self.val=val\n",
    "        self.right=right\n",
    "        self.left=left\n",
    "        \n",
    "    def __str__(self):\n",
    "        return str(self.val)\n",
    "    \n",
    "\n",
    "Root=BinaryTree(20)\n",
    "A=BinaryTree(10)\n",
    "B=BinaryTree(11)\n",
    "C=BinaryTree(12)\n",
    "D=BinaryTree(13)\n",
    "E=BinaryTree(14)\n",
    "F=BinaryTree(15)\n",
    "\n",
    "\"\"\"\n",
    "            root\n",
    "          /     \\\n",
    "         A       B\n",
    "        / \\     / \\\n",
    "       C   D   E   F\n",
    "\"\"\"\n",
    "\n",
    "Root.left=A\n",
    "Root.right=B\n",
    "A.left=C\n",
    "A.right=D\n",
    "B.left=E\n",
    "B.right=F"
   ]
  },
  {
   "cell_type": "code",
   "execution_count": 8,
   "id": "7dab58f8",
   "metadata": {},
   "outputs": [
    {
     "name": "stdout",
     "output_type": "stream",
     "text": [
      "20\n",
      "10\n",
      "12\n",
      "13\n",
      "11\n",
      "14\n",
      "15\n"
     ]
    }
   ],
   "source": [
    "#Pre order traversal\n",
    "\n",
    "def preorder(node):\n",
    "    if not node: #base case\n",
    "        return\n",
    "    print(node)#printing the starting node\n",
    "    preorder(node.left)\n",
    "    preorder(node.right)\n",
    "    \n",
    "    \n",
    "preorder(Root)"
   ]
  },
  {
   "cell_type": "code",
   "execution_count": 12,
   "id": "52006b16",
   "metadata": {},
   "outputs": [
    {
     "name": "stdout",
     "output_type": "stream",
     "text": [
      "12\n",
      "10\n",
      "13\n",
      "20\n",
      "14\n",
      "11\n",
      "15\n"
     ]
    }
   ],
   "source": [
    "#In order traversal\n",
    "\n",
    "def inorder(node):\n",
    "    if not node: #base case\n",
    "        return\n",
    "        \n",
    "    inorder(node.left)\n",
    "    print(node)#printing the starting node    \n",
    "    inorder(node.right)\n",
    "    \n",
    "    \n",
    "inorder(Root)"
   ]
  },
  {
   "cell_type": "code",
   "execution_count": 11,
   "id": "73ff5631",
   "metadata": {},
   "outputs": [
    {
     "name": "stdout",
     "output_type": "stream",
     "text": [
      "20\n",
      "11\n",
      "15\n",
      "14\n",
      "10\n",
      "13\n",
      "12\n"
     ]
    }
   ],
   "source": [
    "#Post order traversal\n",
    "\n",
    "\n",
    "def postorder(node):\n",
    "    if not node: #base case\n",
    "        return\n",
    "    print(node)#printing the starting node    \n",
    "    postorder(node.right)\n",
    "    postorder(node.left)\n",
    "    \n",
    "    \n",
    "postorder(Root)"
   ]
  },
  {
   "cell_type": "code",
   "execution_count": null,
   "id": "8549755a",
   "metadata": {},
   "outputs": [],
   "source": [
    "#Binary Search tree searching"
   ]
  },
  {
   "cell_type": "code",
   "execution_count": null,
   "id": "1385179e",
   "metadata": {},
   "outputs": [],
   "source": [
    "def binary_search_tree(node, target):\n",
    "    # Base case: if node is None, target is not found\n",
    "    if not node:\n",
    "        return None\n",
    "    \n",
    "    # If target is found\n",
    "    if node.val == target:\n",
    "        return node.val  # or return node.val of the root node\n",
    "    \n",
    "    # Recurse into the appropriate subtree\n",
    "    if target > node.val:\n",
    "        return binary_search_tree(node.right, target)\n",
    "    else:  # since only two possibilities remain, no need to check again\n",
    "        return binary_search_tree(node.left, target)\n"
   ]
  }
 ],
 "metadata": {
  "kernelspec": {
   "display_name": "Python 3",
   "language": "python",
   "name": "python3"
  },
  "language_info": {
   "codemirror_mode": {
    "name": "ipython",
    "version": 3
   },
   "file_extension": ".py",
   "mimetype": "text/x-python",
   "name": "python",
   "nbconvert_exporter": "python",
   "pygments_lexer": "ipython3",
   "version": "3.11.7"
  }
 },
 "nbformat": 4,
 "nbformat_minor": 5
}
