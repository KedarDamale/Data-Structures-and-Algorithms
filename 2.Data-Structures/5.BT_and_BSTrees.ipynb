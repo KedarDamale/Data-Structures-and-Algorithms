{
 "cells": [
  {
   "cell_type": "code",
   "execution_count": null,
   "id": "38dd4266",
   "metadata": {},
   "outputs": [],
   "source": [
    "\"\"\"\n",
    "What is a Tree (in Data Structures)?\n",
    "A tree is a non-linear, hierarchical data structure consisting of nodes connected by edges. It emulates a tree structure with a root node and sub-nodes (children).\n",
    "\n",
    "Terminilogies in trees\n",
    "\n",
    "| Property    | Description                                   |\n",
    "| ----------- | --------------------------------------------- |\n",
    "| **Node**    | Fundamental unit containing data.             |\n",
    "| **Root**    | The topmost node. Only one per tree.          |\n",
    "| **Edge**    | Connection between one node to another.       |\n",
    "| **Parent**  | A node connected above a node.                |\n",
    "| **Child**   | A node connected below a node.                |\n",
    "| **Leaf**    | A node with no children.                      |\n",
    "| **Degree**  | Number of children a node has.                |\n",
    "| **Depth**   | Distance from the root to the node.           |\n",
    "| **Height**  | Distance from node to its deepest descendant. |\n",
    "| **Subtree** | Any node and its descendants.                 |\n",
    "\n",
    "\n",
    "Types of trees\n",
    "\n",
    "General Tree: Each node can have any number of children.\n",
    "\n",
    "Binary Tree: Each node can have at most two children.\n",
    "\n",
    "N-ary Tree: Each node can have up to N children.\n",
    "\n",
    "AVL Tree, Red-Black Tree, B-tree, Trie: Specialized trees for efficient searching.\n",
    "\n",
    "\"\"\""
   ]
  }
 ],
 "metadata": {
  "language_info": {
   "name": "python"
  }
 },
 "nbformat": 4,
 "nbformat_minor": 5
}
