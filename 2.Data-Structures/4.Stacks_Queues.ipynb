{
 "cells": [
  {
   "cell_type": "markdown",
   "id": "44539d91",
   "metadata": {},
   "source": [
    "# **Stacks**"
   ]
  },
  {
   "cell_type": "code",
   "execution_count": 58,
   "id": "6263f5f9",
   "metadata": {},
   "outputs": [
    {
     "name": "stdout",
     "output_type": "stream",
     "text": [
      "[1, 3, 5, 7, 9]\n"
     ]
    }
   ],
   "source": [
    "stk=[1,3,5,7,9]\n",
    "\n",
    "print(stk)"
   ]
  },
  {
   "cell_type": "code",
   "execution_count": 59,
   "id": "df7b5d34",
   "metadata": {},
   "outputs": [
    {
     "name": "stdout",
     "output_type": "stream",
     "text": [
      "Stack before appending: [1, 3, 5, 7, 9]\n",
      "Stack after appending: [1, 3, 5, 7, 9, 45]\n"
     ]
    }
   ],
   "source": [
    "#appending to top of the stack O(1)\n",
    "\n",
    "print(f\"Stack before appending: {stk}\")\n",
    "stk.append(45)\n",
    "print(f\"Stack after appending: {stk}\")\n"
   ]
  },
  {
   "cell_type": "code",
   "execution_count": 60,
   "id": "a652391e",
   "metadata": {},
   "outputs": [
    {
     "name": "stdout",
     "output_type": "stream",
     "text": [
      "Stack before popping: [1, 3, 5, 7, 9, 45]\n",
      "Stack after popping: [1, 3, 5, 7, 9] and the popped element is: 45\n"
     ]
    }
   ],
   "source": [
    "#pop from top of the stack O(1)\n",
    "\n",
    "print(f\"Stack before popping: {stk}\")\n",
    "x=stk.pop()\n",
    "print(f\"Stack after popping: {stk} and the popped element is: {x}\")\n"
   ]
  },
  {
   "cell_type": "code",
   "execution_count": 61,
   "id": "d3b0aa8d",
   "metadata": {},
   "outputs": [
    {
     "name": "stdout",
     "output_type": "stream",
     "text": [
      "The top element of the stack is: 9\n"
     ]
    }
   ],
   "source": [
    "#peek : displying whats in the top of the stack O(1)\n",
    "\n",
    "print(f\"The top element of the stack is: {stk[-1]}\")"
   ]
  },
  {
   "cell_type": "code",
   "execution_count": 62,
   "id": "9cd3465c",
   "metadata": {},
   "outputs": [
    {
     "name": "stdout",
     "output_type": "stream",
     "text": [
      "True\n"
     ]
    }
   ],
   "source": [
    "#Ask if the stack is empty or not\n",
    "\n",
    "\n",
    "print(True if stk else False)\n",
    "\n",
    "#if stk is a truthy value means if there is \n",
    "# anything inside it (even if that element is zero)\n",
    "# it will return true means we would no that stack \n",
    "# is not empty if it returns false we would know \n",
    "# that stack is empty"
   ]
  },
  {
   "cell_type": "markdown",
   "id": "31c9b94c",
   "metadata": {},
   "source": [
    "# **Queue**"
   ]
  },
  {
   "cell_type": "code",
   "execution_count": 63,
   "id": "604ccf6f",
   "metadata": {},
   "outputs": [
    {
     "data": {
      "text/plain": [
       "'\\nThere are many types of queues\\n -normal queue(one ended queue)\\n -dqueue(double ended queue)\\n -circular queue\\n -priority queue\\n \\nNormally queues are implements with deque i.e double ended queue and are implemented using deque object from collection library , they can also be implemented using lists \\n'"
      ]
     },
     "execution_count": 63,
     "metadata": {},
     "output_type": "execute_result"
    }
   ],
   "source": [
    "\"\"\"\n",
    "There are many types of queues\n",
    " -normal queue(one ended queue)\n",
    " -dqueue(double ended queue)\n",
    " -circular queue\n",
    " -priority queue\n",
    " \n",
    "Normally queues are implements with deque i.e double ended queue and are implemented using deque object from collection library , they can also be implemented using lists \n",
    "\"\"\""
   ]
  },
  {
   "cell_type": "code",
   "execution_count": 64,
   "id": "edcf27e6",
   "metadata": {},
   "outputs": [
    {
     "name": "stdout",
     "output_type": "stream",
     "text": [
      "deque([12, 13, 14, 15])\n"
     ]
    }
   ],
   "source": [
    "from collections import deque\n",
    "\n",
    "d=deque([12,13,14,15]) #d=deque()  #empty queue\n",
    "print(d)"
   ]
  },
  {
   "cell_type": "code",
   "execution_count": 65,
   "id": "4fc173da",
   "metadata": {},
   "outputs": [
    {
     "name": "stdout",
     "output_type": "stream",
     "text": [
      "Queue before appending: deque([12, 13, 14, 15])\n",
      "Queue after appending: deque([12, 13, 14, 15, 14])\n"
     ]
    }
   ],
   "source": [
    "#Enqueue : adding an element at the end i.r right side O(1)\n",
    "\n",
    "print(f\"Queue before appending: {d}\")\n",
    "d.append(14)\n",
    "print(f\"Queue after appending: {d}\")\n"
   ]
  },
  {
   "cell_type": "code",
   "execution_count": null,
   "id": "e7ae8203",
   "metadata": {},
   "outputs": [
    {
     "name": "stdout",
     "output_type": "stream",
     "text": [
      "Queue before popping: deque([12, 13, 14, 15, 14])\n",
      "Queue after popping: deque([13, 14, 15, 14]) and popped element is 12\n"
     ]
    }
   ],
   "source": [
    "#Deque : remove an element from left O(1)\n",
    "\n",
    "print(f\"Queue before popping: {d}\")\n",
    "x=d.popleft() #popleft is not a built in method it is part of collection.deque module\n",
    "print(f\"Queue after popping: {d} and popped element is {x}\")"
   ]
  },
  {
   "cell_type": "code",
   "execution_count": 67,
   "id": "a8a27218",
   "metadata": {},
   "outputs": [
    {
     "name": "stdout",
     "output_type": "stream",
     "text": [
      "13\n",
      "14\n"
     ]
    }
   ],
   "source": [
    "#Peeking from left O(1)\n",
    "\n",
    "print(d[0]) #queue doesnt have indices as in ds terms but when we implement it they sort of have them\n",
    "\n",
    "#peeking from right O(1)\n",
    "\n",
    "print(d[-1])"
   ]
  }
 ],
 "metadata": {
  "kernelspec": {
   "display_name": "Python 3",
   "language": "python",
   "name": "python3"
  },
  "language_info": {
   "codemirror_mode": {
    "name": "ipython",
    "version": 3
   },
   "file_extension": ".py",
   "mimetype": "text/x-python",
   "name": "python",
   "nbconvert_exporter": "python",
   "pygments_lexer": "ipython3",
   "version": "3.11.7"
  }
 },
 "nbformat": 4,
 "nbformat_minor": 5
}
