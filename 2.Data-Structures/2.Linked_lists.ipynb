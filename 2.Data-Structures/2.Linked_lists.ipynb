{
 "cells": [
  {
   "cell_type": "markdown",
   "id": "46d276d8",
   "metadata": {},
   "source": [
    "# **Singly Linked Lists**"
   ]
  },
  {
   "cell_type": "code",
   "execution_count": 3,
   "id": "d4e9d49f",
   "metadata": {},
   "outputs": [],
   "source": [
    "class SinglyLLNode:\n",
    "    \n",
    "    def __init__(self,val,next=None):\n",
    "        self.val=val\n",
    "        self.next=next\n",
    "        \n",
    "    def __str__(self):\n",
    "        return str(self.val)"
   ]
  },
  {
   "cell_type": "code",
   "execution_count": 5,
   "id": "634ccac2",
   "metadata": {},
   "outputs": [],
   "source": [
    "Head=SinglyLLNode(10)\n",
    "\n",
    "A=SinglyLLNode(20)\n",
    "\n",
    "B=SinglyLLNode(30)\n",
    "\n",
    "C=SinglyLLNode(40)\n",
    "\n",
    "#Now we have created nodes but they are just floating around in space so we need to connect them using next, as next is set to null via constructor currently they are not pointing to anything\n",
    "\n",
    "Head.next=A\n",
    "A.next=B\n",
    "B.next=C\n",
    "\n",
    "#C is last so we keep C's next null(None)"
   ]
  },
  {
   "cell_type": "code",
   "execution_count": 6,
   "id": "98a45bc3",
   "metadata": {},
   "outputs": [
    {
     "name": "stdout",
     "output_type": "stream",
     "text": [
      "10\n"
     ]
    }
   ],
   "source": [
    "print(Head)"
   ]
  },
  {
   "cell_type": "code",
   "execution_count": 7,
   "id": "e5ef00b4",
   "metadata": {},
   "outputs": [
    {
     "name": "stdout",
     "output_type": "stream",
     "text": [
      "10\n",
      "20\n",
      "30\n",
      "40\n"
     ]
    }
   ],
   "source": [
    "#to traverse the list\n",
    "\n",
    "curr=Head\n",
    "\n",
    "while curr:\n",
    "    print(curr)\n",
    "    curr=curr.next"
   ]
  },
  {
   "cell_type": "code",
   "execution_count": 10,
   "id": "4c14c92e",
   "metadata": {},
   "outputs": [
    {
     "name": "stdout",
     "output_type": "stream",
     "text": [
      "10->20->30->40\n",
      "20->30->40\n",
      "30->40\n",
      "40\n"
     ]
    }
   ],
   "source": [
    "#displaying the ll\n",
    "\n",
    "def display(head):\n",
    "    curr=head\n",
    "    elements=[]\n",
    "    while curr:\n",
    "        elements.append(str(curr.val))\n",
    "        curr=curr.next\n",
    "        \n",
    "    print('->'.join(elements))\n",
    "    \n",
    "display(Head)\n",
    "display(A)\n",
    "display(B)\n",
    "display(C)"
   ]
  },
  {
   "cell_type": "code",
   "execution_count": null,
   "id": "e8101cb4",
   "metadata": {},
   "outputs": [
    {
     "data": {
      "text/plain": [
       "False"
      ]
     },
     "execution_count": 12,
     "metadata": {},
     "output_type": "execute_result"
    }
   ],
   "source": [
    "#search for any node\n",
    "\n",
    "def search(head,val):\n",
    "    curr=head\n",
    "    while curr:\n",
    "        if val== curr.val:\n",
    "            return True \n",
    "        else:\n",
    "            curr=curr.next\n",
    "    return False\n",
    "\n",
    "search(Head,40)#True\n",
    "search(Head,90)#False"
   ]
  },
  {
   "cell_type": "markdown",
   "id": "06beba1a",
   "metadata": {},
   "source": [
    "# **Doubly Linked Lists**"
   ]
  },
  {
   "cell_type": "code",
   "execution_count": 13,
   "id": "97ba840f",
   "metadata": {},
   "outputs": [],
   "source": [
    "class DoublyLLNode:\n",
    "    \n",
    "    def __init__(self,val,prev=None,next=None):\n",
    "        self.val=val\n",
    "        self.prev=prev\n",
    "        self.next=next\n",
    "        \n",
    "    def __str__(self):\n",
    "        return str(self.val)"
   ]
  },
  {
   "cell_type": "code",
   "execution_count": null,
   "id": "f8c14b91",
   "metadata": {},
   "outputs": [],
   "source": [
    "Head=DoublyLLNode(40)\n",
    "\n",
    "A=DoublyLLNode(30)\n",
    "\n",
    "B=DoublyLLNode(60)\n",
    "\n",
    "Tail=DoublyLLNode(80)\n",
    "\n",
    "\n",
    "\n",
    "#Now we have created nodes but they are just floating around in space so we need to connect them using next, as next is set to null via constructor currently they are not pointing to anything\n",
    "\n",
    "Head.next=A\n",
    "\n",
    "A.prev=Head\n",
    "A.next=B\n",
    "\n",
    "B.prev=A\n",
    "B.next=Tail\n",
    "\n",
    "Tail.prev=B"
   ]
  },
  {
   "cell_type": "code",
   "execution_count": 17,
   "id": "5b1c812a",
   "metadata": {},
   "outputs": [
    {
     "name": "stdout",
     "output_type": "stream",
     "text": [
      "30\n"
     ]
    }
   ],
   "source": [
    "print(A)"
   ]
  },
  {
   "cell_type": "code",
   "execution_count": null,
   "id": "c6672a82",
   "metadata": {},
   "outputs": [
    {
     "name": "stdout",
     "output_type": "stream",
     "text": [
      "40 <-> 30 <-> 60 <-> 80\n"
     ]
    }
   ],
   "source": [
    "def display(head):\n",
    "    curr=head\n",
    "    elements=[]\n",
    "    while curr:\n",
    "        elements.append(str(curr.val))\n",
    "        curr=curr.next\n",
    "    print(' <-> '.join(elements))\n",
    "    \n",
    "display(Head)"
   ]
  },
  {
   "cell_type": "code",
   "execution_count": null,
   "id": "16f4f75d",
   "metadata": {},
   "outputs": [
    {
     "ename": "NameError",
     "evalue": "name 'Tail' is not defined",
     "output_type": "error",
     "traceback": [
      "\u001b[1;31m---------------------------------------------------------------------------\u001b[0m",
      "\u001b[1;31mNameError\u001b[0m                                 Traceback (most recent call last)",
      "Cell \u001b[1;32mIn[20], line 8\u001b[0m\n\u001b[0;32m      5\u001b[0m     head\u001b[38;5;241m.\u001b[39mprev\u001b[38;5;241m=\u001b[39mnew_node\n\u001b[0;32m      6\u001b[0m     \u001b[38;5;28;01mreturn\u001b[39;00m new_node,tail\n\u001b[1;32m----> 8\u001b[0m head,tail\u001b[38;5;241m=\u001b[39minsert_at_begining(Head,\u001b[43mTail\u001b[49m,\u001b[38;5;241m3\u001b[39m)\n\u001b[0;32m      9\u001b[0m display(Head)\n",
      "\u001b[1;31mNameError\u001b[0m: name 'Tail' is not defined"
     ]
    }
   ],
   "source": [
    "#inserting at begining\n",
    "\n",
    "def insert_at_begining(head,tail,val):\n",
    "    new_node=DoublyLLNode(val,next=head)\n",
    "    head.prev=new_node\n",
    "    return new_node,tail\n",
    "\n",
    "head,tail=insert_at_begining(head,tail,3)\n",
    "display(head)"
   ]
  }
 ],
 "metadata": {
  "kernelspec": {
   "display_name": "Python 3",
   "language": "python",
   "name": "python3"
  },
  "language_info": {
   "codemirror_mode": {
    "name": "ipython",
    "version": 3
   },
   "file_extension": ".py",
   "mimetype": "text/x-python",
   "name": "python",
   "nbconvert_exporter": "python",
   "pygments_lexer": "ipython3",
   "version": "3.11.7"
  }
 },
 "nbformat": 4,
 "nbformat_minor": 5
}
