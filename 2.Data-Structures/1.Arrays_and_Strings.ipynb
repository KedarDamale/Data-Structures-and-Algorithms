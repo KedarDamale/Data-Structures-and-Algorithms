{
 "cells": [
  {
   "cell_type": "markdown",
   "id": "53d0c931",
   "metadata": {},
   "source": [
    "# **Arrays**"
   ]
  },
  {
   "cell_type": "code",
   "execution_count": 52,
   "id": "08360440",
   "metadata": {},
   "outputs": [],
   "source": [
    "#arrays are the contagios block of code and each element have indices \n",
    "#arrays are a collection which are used to assign multiple values to one variable"
   ]
  },
  {
   "cell_type": "code",
   "execution_count": 53,
   "id": "1ba50a42",
   "metadata": {},
   "outputs": [],
   "source": [
    "# Arrays can be of two types : static and dynamic\n",
    "\n",
    "#Static arrays are the arrays with limited block of memory means for adding more elements you have to delete the ones present \n",
    "#Dynamic arrays: arrays that do not have limited memory , arrays will expand based on the elements added \n",
    "\n",
    "#static arrays are very hectic to work with thats why languages like python dont even support static arrays they support lists that are dynamic array , languages like c do support them\n",
    "#although dynamic arrays are basically malloc based static arrays under the hood"
   ]
  },
  {
   "cell_type": "code",
   "execution_count": 54,
   "id": "aece14df",
   "metadata": {},
   "outputs": [],
   "source": [
    "#       [1,2,3,4,5,6]\n",
    "#indices:0,1,2,3,4,n-1(6-1=5)"
   ]
  },
  {
   "cell_type": "code",
   "execution_count": 55,
   "id": "7fb2feb8",
   "metadata": {},
   "outputs": [
    {
     "name": "stdout",
     "output_type": "stream",
     "text": [
      "Accessing the fourth element: 5\n"
     ]
    }
   ],
   "source": [
    "#accessing elements using indices\n",
    "\n",
    "a=[1,2,3,4,5,6]\n",
    "print(f\"Accessing the fourth element: {a[4]}\")\n",
    "\n",
    "#Thsi operation is constant time whch means no matter how many elements we add it will take the \n",
    "# same amount of time to acccess a[4]\n",
    "#Complextity=O(1)"
   ]
  },
  {
   "cell_type": "code",
   "execution_count": 56,
   "id": "78de09a3",
   "metadata": {},
   "outputs": [
    {
     "name": "stdout",
     "output_type": "stream",
     "text": [
      "Array before changing: [1, 2, 3, 4, 5, 6, 7]\n",
      "Array after changing: [1, 2, 3, 4, 5, 98, 7]\n"
     ]
    }
   ],
   "source": [
    "#changing the element in that array as arrays are mutable means values of elements can be changed \n",
    "# without creating a new arrsy\n",
    "\n",
    "a=[1,2,3,4,5,6,7]\n",
    "print(f'Array before changing: {a}')\n",
    "a[5]=98\n",
    "print(f'Array after changing: {a}')\n",
    "\n",
    "\n",
    "#as you can see element at position 5 means 6th elements has been changed this also happens in O(1) \n",
    "# as python doesnt have to check in on entire arrays and replacing values will take same amount of\n",
    "# operation time as for a list of 10000 elements"
   ]
  },
  {
   "cell_type": "code",
   "execution_count": 57,
   "id": "e10e071e",
   "metadata": {},
   "outputs": [
    {
     "name": "stdout",
     "output_type": "stream",
     "text": [
      "True if the 4 is found in the array and false if not: True\n",
      "True if the 34 is found in the array and false if not: False\n"
     ]
    }
   ],
   "source": [
    "#checking if an element is in the arrays\n",
    "\n",
    "a=[1,2,3,4,5,6,7,8,9.10]\n",
    "\n",
    "print(f'True if the 4 is found in the array and false if not: {4 in a}')\n",
    "print(f'True if the 34 is found in the array and false if not: {34 in a}')\n",
    "\n",
    "#as you can see python is iterating over each element and checking if that element\n",
    "# is present in athe aars so this is O(n) as operation time will increase depending\n",
    "# on enumber of elements in the array"
   ]
  },
  {
   "cell_type": "code",
   "execution_count": 58,
   "id": "ce04e92a",
   "metadata": {},
   "outputs": [
    {
     "name": "stdout",
     "output_type": "stream",
     "text": [
      "Array Before appending: [1, 2, 3, 4, 5, 6, 7]\n",
      "Array after appending: [1, 2, 3, 4, 5, 6, 7, 8]\n"
     ]
    }
   ],
   "source": [
    "#Appending elements to the arrays \n",
    "\n",
    "a=[1,2,3,4,5,6,7]\n",
    "print(f\"Array Before appending: {a}\")\n",
    "a.append(8) #this returns nothing, modifies list in place\n",
    "print(f\"Array after appending: {a}\")\n",
    "\n",
    "#As python is appending element at last its in O(1) as number of elements doesnt matter"
   ]
  },
  {
   "cell_type": "code",
   "execution_count": 59,
   "id": "9d7dbfff",
   "metadata": {},
   "outputs": [
    {
     "name": "stdout",
     "output_type": "stream",
     "text": [
      "Array Before popping: [1, 2, 3, 4, 5, 6, 7]\n",
      "Array after popping: [1, 2, 3, 4, 5, 6] and popped element is 7\n"
     ]
    }
   ],
   "source": [
    "#popping elements from the end of the array\n",
    "\n",
    "a=[1,2,3,4,5,6,7]\n",
    "print(f\"Array Before popping: {a}\")\n",
    "b=a.pop() #this returns the popped eleement, and modifies list in place\n",
    "print(f\"Array after popping: {a} and popped element is {b}\")\n",
    "\n",
    "##As python is popping element at last its in O(1) as number of elements doesnt matter"
   ]
  },
  {
   "cell_type": "code",
   "execution_count": 60,
   "id": "e4454557",
   "metadata": {},
   "outputs": [
    {
     "name": "stdout",
     "output_type": "stream",
     "text": [
      "Array Before inserting: [1, 2, 3, 4, 5, 6, 7]\n",
      "Array after inserting at index: 2: [1, 2, 8, 3, 4, 5, 6, 7]\n"
     ]
    }
   ],
   "source": [
    "#insert an elements at given index\n",
    "\n",
    "a=[1,2,3,4,5,6,7]\n",
    "print(f\"Array Before inserting: {a}\")\n",
    "a.insert(2,8) #this returns nothing, modifies list in place syntax: insert(index,element)\n",
    "print(f\"Array after inserting at index: 2: {a}\")\n",
    "\n",
    "#in worst possible case python has to insert in oth place and has to shift entire rest of the array to right time complexity is O(n)"
   ]
  },
  {
   "cell_type": "code",
   "execution_count": 61,
   "id": "d396716d",
   "metadata": {},
   "outputs": [
    {
     "name": "stdout",
     "output_type": "stream",
     "text": [
      "Way one using pop(n)\n",
      "\n",
      "Array Before popping: [1, 2, 3, 4, 5, 6, 7]\n",
      "Array after popping elment at 2nd index: [1, 2, 4, 5, 6, 7] and popped element is 3\n",
      "\n",
      "Way two using del list_name[index]\n",
      "\n",
      "Array Before popping: [1, 2, 3, 4, 5, 6, 7]\n",
      "Array after deleting the memory of elment at 2nd index: [1, 2, 4, 5, 6, 7]\n"
     ]
    }
   ],
   "source": [
    "#delete an elmenet off of the given index\n",
    "\n",
    "#1.Way one\n",
    "\n",
    "print(\"Way one using pop(n)\")\n",
    "print()\n",
    "\n",
    "a=[1,2,3,4,5,6,7]\n",
    "print(f\"Array Before popping: {a}\")\n",
    "b=a.pop(2) #this returns the popped eleement at the index, and modifies list in place\n",
    "print(f\"Array after popping elment at 2nd index: {a} and popped element is {b}\")\n",
    "\n",
    "\n",
    "#2.Way two\n",
    "print()\n",
    "print(\"Way two using del list_name[index]\")\n",
    "print()\n",
    "\n",
    "a=[1,2,3,4,5,6,7]\n",
    "print(f\"Array Before popping: {a}\")\n",
    "del a[2] #this doesnt return the popped eleement at the index, and modifies list in place\n",
    "print(f\"Array after deleting the memory of elment at 2nd index: {a}\")\n",
    "\n",
    "\n",
    "##in worst possible case python has to pop at 0th place and has to shift entire array to left time complexity is O(n)\n",
    "#use pop(n) for most but if we dont want the popped element the use del\n"
   ]
  },
  {
   "cell_type": "markdown",
   "id": "4d0fdf28",
   "metadata": {},
   "source": [
    "# **Strings**"
   ]
  }
 ],
 "metadata": {
  "kernelspec": {
   "display_name": "Python 3",
   "language": "python",
   "name": "python3"
  },
  "language_info": {
   "codemirror_mode": {
    "name": "ipython",
    "version": 3
   },
   "file_extension": ".py",
   "mimetype": "text/x-python",
   "name": "python",
   "nbconvert_exporter": "python",
   "pygments_lexer": "ipython3",
   "version": "3.11.7"
  }
 },
 "nbformat": 4,
 "nbformat_minor": 5
}
