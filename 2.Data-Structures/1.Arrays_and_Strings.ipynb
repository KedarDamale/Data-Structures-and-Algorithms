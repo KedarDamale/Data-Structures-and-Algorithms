{
 "cells": [
  {
   "cell_type": "markdown",
   "id": "53d0c931",
   "metadata": {},
   "source": [
    "# **Arrays**"
   ]
  },
  {
   "cell_type": "code",
   "execution_count": 62,
   "id": "08360440",
   "metadata": {},
   "outputs": [],
   "source": [
    "#arrays are the contagios block of code and each element have indices \n",
    "#arrays are a collection which are used to assign multiple values to one variable"
   ]
  },
  {
   "cell_type": "code",
   "execution_count": 63,
   "id": "1ba50a42",
   "metadata": {},
   "outputs": [],
   "source": [
    "# Arrays can be of two types : static and dynamic\n",
    "\n",
    "#Static arrays are the arrays with limited block of memory means for adding more elements you have to delete the ones present \n",
    "#Dynamic arrays: arrays that do not have limited memory , arrays will expand based on the elements added \n",
    "\n",
    "#static arrays are very hectic to work with thats why languages like python dont even support static arrays they support lists that are dynamic array , languages like c do support them\n",
    "#although dynamic arrays are basically malloc based static arrays under the hood"
   ]
  },
  {
   "cell_type": "code",
   "execution_count": 64,
   "id": "aece14df",
   "metadata": {},
   "outputs": [],
   "source": [
    "#       [1,2,3,4,5,6]\n",
    "#indices:0,1,2,3,4,n-1(6-1=5)"
   ]
  },
  {
   "cell_type": "code",
   "execution_count": 65,
   "id": "7fb2feb8",
   "metadata": {},
   "outputs": [
    {
     "name": "stdout",
     "output_type": "stream",
     "text": [
      "Accessing the fourth element: 5\n"
     ]
    }
   ],
   "source": [
    "#accessing elements using indices\n",
    "\n",
    "a=[1,2,3,4,5,6]\n",
    "print(f\"Accessing the fourth element: {a[4]}\")\n",
    "\n",
    "#Thsi operation is constant time whch means no matter how many elements we add it will take the \n",
    "# same amount of time to acccess a[4]\n",
    "#Complextity=O(1)"
   ]
  },
  {
   "cell_type": "code",
   "execution_count": 66,
   "id": "78de09a3",
   "metadata": {},
   "outputs": [
    {
     "name": "stdout",
     "output_type": "stream",
     "text": [
      "Array before changing: [1, 2, 3, 4, 5, 6, 7]\n",
      "Array after changing: [1, 2, 3, 4, 5, 98, 7]\n"
     ]
    }
   ],
   "source": [
    "#changing the element in that array as arrays are mutable means values of elements can be changed \n",
    "# without creating a new arrsy\n",
    "\n",
    "a=[1,2,3,4,5,6,7]\n",
    "print(f'Array before changing: {a}')\n",
    "a[5]=98\n",
    "print(f'Array after changing: {a}')\n",
    "\n",
    "\n",
    "#as you can see element at position 5 means 6th elements has been changed this also happens in O(1) \n",
    "# as python doesnt have to check in on entire arrays and replacing values will take same amount of\n",
    "# operation time as for a list of 10000 elements"
   ]
  },
  {
   "cell_type": "code",
   "execution_count": 67,
   "id": "e10e071e",
   "metadata": {},
   "outputs": [
    {
     "name": "stdout",
     "output_type": "stream",
     "text": [
      "True if the 4 is found in the array and false if not: True\n",
      "True if the 34 is found in the array and false if not: False\n"
     ]
    }
   ],
   "source": [
    "#checking if an element is in the arrays\n",
    "\n",
    "a=[1,2,3,4,5,6,7,8,9.10]\n",
    "\n",
    "print(f'True if the 4 is found in the array and false if not: {4 in a}')\n",
    "print(f'True if the 34 is found in the array and false if not: {34 in a}')\n",
    "\n",
    "#as you can see python is iterating over each element and checking if that element\n",
    "# is present in athe aars so this is O(n) as operation time will increase depending\n",
    "# on enumber of elements in the array"
   ]
  },
  {
   "cell_type": "code",
   "execution_count": 68,
   "id": "ce04e92a",
   "metadata": {},
   "outputs": [
    {
     "name": "stdout",
     "output_type": "stream",
     "text": [
      "Array Before appending: [1, 2, 3, 4, 5, 6, 7]\n",
      "Array after appending: [1, 2, 3, 4, 5, 6, 7, 8]\n"
     ]
    }
   ],
   "source": [
    "#Appending elements to the arrays \n",
    "\n",
    "a=[1,2,3,4,5,6,7]\n",
    "print(f\"Array Before appending: {a}\")\n",
    "a.append(8) #this returns nothing, modifies list in place\n",
    "print(f\"Array after appending: {a}\")\n",
    "\n",
    "#As python is appending element at last its in O(1) as number of elements doesnt matter"
   ]
  },
  {
   "cell_type": "code",
   "execution_count": 69,
   "id": "9d7dbfff",
   "metadata": {},
   "outputs": [
    {
     "name": "stdout",
     "output_type": "stream",
     "text": [
      "Array Before popping: [1, 2, 3, 4, 5, 6, 7]\n",
      "Array after popping: [1, 2, 3, 4, 5, 6] and popped element is 7\n"
     ]
    }
   ],
   "source": [
    "#popping elements from the end of the array\n",
    "\n",
    "a=[1,2,3,4,5,6,7]\n",
    "print(f\"Array Before popping: {a}\")\n",
    "b=a.pop() #this returns the popped eleement, and modifies list in place\n",
    "print(f\"Array after popping: {a} and popped element is {b}\")\n",
    "\n",
    "##As python is popping element at last its in O(1) as number of elements doesnt matter"
   ]
  },
  {
   "cell_type": "code",
   "execution_count": 70,
   "id": "e4454557",
   "metadata": {},
   "outputs": [
    {
     "name": "stdout",
     "output_type": "stream",
     "text": [
      "Array Before inserting: [1, 2, 3, 4, 5, 6, 7]\n",
      "Array after inserting at index: 2: [1, 2, 8, 3, 4, 5, 6, 7]\n"
     ]
    }
   ],
   "source": [
    "#insert an elements at given index\n",
    "\n",
    "a=[1,2,3,4,5,6,7]\n",
    "print(f\"Array Before inserting: {a}\")\n",
    "a.insert(2,8) #this returns nothing, modifies list in place syntax: insert(index,element)\n",
    "print(f\"Array after inserting at index: 2: {a}\")\n",
    "\n",
    "#in worst possible case python has to insert in oth place and has to shift entire rest of the array to right time complexity is O(n)"
   ]
  },
  {
   "cell_type": "code",
   "execution_count": 71,
   "id": "d396716d",
   "metadata": {},
   "outputs": [
    {
     "name": "stdout",
     "output_type": "stream",
     "text": [
      "Way one using pop(n)\n",
      "\n",
      "Array Before popping: [1, 2, 3, 4, 5, 6, 7]\n",
      "Array after popping elment at 2nd index: [1, 2, 4, 5, 6, 7] and popped element is 3\n",
      "\n",
      "Way two using del list_name[index]\n",
      "\n",
      "Array Before popping: [1, 2, 3, 4, 5, 6, 7]\n",
      "Array after deleting the memory of elment at 2nd index: [1, 2, 4, 5, 6, 7]\n"
     ]
    }
   ],
   "source": [
    "#delete an elmenet off of the given index\n",
    "\n",
    "#1.Way one\n",
    "\n",
    "print(\"Way one using pop(n)\")\n",
    "print()\n",
    "\n",
    "a=[1,2,3,4,5,6,7]\n",
    "print(f\"Array Before popping: {a}\")\n",
    "b=a.pop(2) #this returns the popped eleement at the index, and modifies list in place\n",
    "print(f\"Array after popping elment at 2nd index: {a} and popped element is {b}\")\n",
    "\n",
    "\n",
    "#2.Way two\n",
    "print()\n",
    "print(\"Way two using del list_name[index]\")\n",
    "print()\n",
    "\n",
    "a=[1,2,3,4,5,6,7]\n",
    "print(f\"Array Before popping: {a}\")\n",
    "del a[2] #this doesnt return the popped eleement at the index, and modifies list in place\n",
    "print(f\"Array after deleting the memory of elment at 2nd index: {a}\")\n",
    "\n",
    "\n",
    "##in worst possible case python has to pop at 0th place and has to shift entire array to left time complexity is O(n)\n",
    "#use pop(n) for most but if we dont want the popped element the use del\n"
   ]
  },
  {
   "cell_type": "code",
   "execution_count": null,
   "id": "105923ee",
   "metadata": {},
   "outputs": [],
   "source": [
    "\"\"\"\n",
    "🔷 REAL-LIFE USES OF ARRAYS\n",
    "1. Image Processing\n",
    "Images are essentially arrays of pixels.\n",
    "\n",
    "A grayscale image = 2D array of intensity values.\n",
    "\n",
    "A colored image = 3D array (rows × columns × 3 for RGB).\n",
    "\n",
    "Example:\n",
    "\n",
    "Editing a photo: Software like Photoshop uses arrays to apply filters.\n",
    "\n",
    "Facial recognition: The face is represented as a matrix and processed using array operations.\n",
    "\n",
    "2. Audio and Signal Processing\n",
    "Audio signals are represented as 1D arrays of amplitude values over time.\n",
    "\n",
    "Example:\n",
    "\n",
    "Music equalizers adjust values in this array to boost bass or treble.\n",
    "\n",
    "Voice assistants like Alexa process real-time microphone input using arrays.\n",
    "\n",
    "3. Data Tables and CSV Files\n",
    "Tabular data (like Excel sheets) are stored as 2D arrays.\n",
    "\n",
    "Example:\n",
    "\n",
    "Analyzing student scores in a school—each row is a student, each column is a subject.\n",
    "\n",
    "4. Game Development\n",
    "Games use grids and matrices to store positions, levels, scores.\n",
    "\n",
    "Example:\n",
    "\n",
    "In chess or sudoku: a 2D array holds the board state.\n",
    "\n",
    "In Candy Crush: board grid is a 2D array updated after every move.\n",
    "\n",
    "5. Sensor Data and IoT\n",
    "Arrays are used to store sequential data from sensors.\n",
    "\n",
    "Example:\n",
    "\n",
    "Temperature sensor readings over time: stored in a 1D array.\n",
    "\n",
    "3-axis accelerometer: gives [x, y, z] → stored in array for motion tracking.\n",
    "\n",
    "6. Database Operations\n",
    "Query results (like SELECT * FROM table) are stored in array-like structures before display or processing.\n",
    "\n",
    "Example:\n",
    "\n",
    "Paginating results from a website backend → slicing arrays for each page.\n",
    "\n",
    "7. Scientific Simulations\n",
    "Physics/engineering simulations use arrays to store simulation parameters over time.\n",
    "\n",
    "Example:\n",
    "\n",
    "Weather modeling: uses huge 3D/4D arrays to store temperature, pressure, humidity grids.\n",
    "\n",
    "8. Machine Learning and AI\n",
    "Training data is often stored in arrays (e.g., NumPy arrays).\n",
    "\n",
    "Example:\n",
    "\n",
    "A model predicting house prices uses an array of feature values like [area, bedrooms, location].\n",
    "\n",
    "\"\"\""
   ]
  },
  {
   "cell_type": "markdown",
   "id": "4d0fdf28",
   "metadata": {},
   "source": [
    "# **Strings**"
   ]
  },
  {
   "cell_type": "code",
   "execution_count": 1,
   "id": "4209605d",
   "metadata": {},
   "outputs": [],
   "source": [
    "#Strings are basically array of characters but the differnce is they are immmutable meaning we cant change them in place which makes complexity of almost everything about strings O(n)"
   ]
  },
  {
   "cell_type": "code",
   "execution_count": null,
   "id": "87cbb53b",
   "metadata": {},
   "outputs": [
    {
     "name": "stdout",
     "output_type": "stream",
     "text": [
      "Character at index 3 is: a\n"
     ]
    }
   ],
   "source": [
    "#Accessing the character of the string on the specific index\n",
    "\n",
    "s=\"Kedar\"\n",
    "\n",
    "print(f\"Character at index 3 is: {s[3]}\")\n",
    "\n",
    "#thsi is same as array O(1)"
   ]
  },
  {
   "cell_type": "code",
   "execution_count": 6,
   "id": "2f1ff438",
   "metadata": {},
   "outputs": [
    {
     "name": "stdout",
     "output_type": "stream",
     "text": [
      "True if the 'a' is found in the array and false if not: True\n",
      "True if the 't' is found in the array and false if not: False\n"
     ]
    }
   ],
   "source": [
    "#Checking if a character exists in a string\n",
    "\n",
    "s=\"Kedar\"\n",
    "\n",
    "print(f\"True if the 'a' is found in the array and false if not: {'a' in s}\")\n",
    "print(f\"True if the 't' is found in the array and false if not: {'t' in s}\")\n",
    "\n",
    "#This is also like arrays O(n)"
   ]
  },
  {
   "cell_type": "code",
   "execution_count": null,
   "id": "d6741c78",
   "metadata": {},
   "outputs": [
    {
     "name": "stdout",
     "output_type": "stream",
     "text": [
      "Modifying a specific character\n",
      "\n",
      "String before modification: Kedar\n",
      "String after modification: kedar\n",
      "\n",
      "Modifying the character at specific index\n",
      "\n",
      "String before the modification: kedar\n",
      "String After the modification: Pedar\n"
     ]
    }
   ],
   "source": [
    "#modifying an element \n",
    "\n",
    "s=\"Kedar\"\n",
    "#s[0]='M' This doesnt work as strings are immutable\n",
    "\n",
    "\n",
    "print(\"Modifying a specific character\",end='\\n\\n')\n",
    "\n",
    "print(f\"String before modification: {s}\")\n",
    "s=s.replace('K','k')\n",
    "print(f\"String after modification: {s}\",end='\\n\\n')\n",
    "\n",
    "print(\"Modifying the character at specific index\",end='\\n\\n')\n",
    "\n",
    "print(f\"String before the modification: {s}\")\n",
    "s=list(s)\n",
    "s[0]='P'\n",
    "s=\"\".join(s) #join doesnt modify in place a variable has to be assigned\n",
    "print(f\"String After the modification: {s}\")\n",
    "\n",
    "#Modification of the character in string is O(n) as it has to create a new string fetch all element in and modify that so it O(n)\n",
    "\n",
    "#way 1 explanation : python has replace method to replace a letter with another (you can control how many)\n",
    "#way 2 explanation : as ther eis no method to replace a character at particular index we converted it to list used list assignment and converted back to string using join, way 2 is less memeory efficient\n",
    "\n",
    "#way 3:If you want to replace a character at a specific index only, here’s a concise one-liner: also O(n)\n",
    "\n",
    "# s = \"Kedar\"\n",
    "# s = s[:0] + 'P' + s[1:]  # Replaces 'K' with 'P'\n",
    "# print(s)  # Output: Pedar\n"
   ]
  },
  {
   "cell_type": "code",
   "execution_count": 8,
   "id": "9f3d16a7",
   "metadata": {},
   "outputs": [
    {
     "name": "stdout",
     "output_type": "stream",
     "text": [
      "String before appending: Kedar\n",
      "String after appending: KedarP\n"
     ]
    }
   ],
   "source": [
    "#Appending to the string\n",
    "\n",
    "s='Kedar'\n",
    "\n",
    "print(f\"String before appending: {s}\")\n",
    "s=s+'P'\n",
    "print(f\"String after appending: {s}\")\n",
    "\n",
    "#This is also O(n) as python has to go through all the elements as strings are not modified in place"
   ]
  },
  {
   "cell_type": "code",
   "execution_count": 6,
   "id": "c3cf8b46",
   "metadata": {},
   "outputs": [
    {
     "name": "stdout",
     "output_type": "stream",
     "text": [
      "String before popping last element: Kedar\n",
      "String after popping last element: Keda\n"
     ]
    }
   ],
   "source": [
    "#popping from the end\n",
    "\n",
    "s='Kedar'\n",
    "\n",
    "print(f\"String before popping last element: {s}\")\n",
    "\n",
    "s=s[0:len(s)-1]\n",
    "\n",
    "print(f\"String after popping last element: {s}\")\n",
    "\n",
    "#using string slicing and len function we can pop out last element of the string, this operation is also O(n) as python has to go through all sliced elements"
   ]
  },
  {
   "cell_type": "code",
   "execution_count": null,
   "id": "bb07d37c",
   "metadata": {},
   "outputs": [
    {
     "name": "stdout",
     "output_type": "stream",
     "text": [
      "String before modification: Kedar\n",
      "String after modification: KePdar\n"
     ]
    }
   ],
   "source": [
    "#insertion at given place(index)\n",
    "\n",
    "s='Kedar'\n",
    "index=2 #basically we are inserting a new character at 2nd index\n",
    "char='P'\n",
    "print(f\"String before modification: {s}\")\n",
    "\n",
    "s=s[:index]+char+s[index:]\n",
    "\n",
    "print(f\"String after modification: {s}\")\n",
    "\n",
    "#This operation is also O(n) fo the same reason : as python has to go through all elements to construct a new string"
   ]
  },
  {
   "cell_type": "code",
   "execution_count": null,
   "id": "4e4cc1ae",
   "metadata": {},
   "outputs": [
    {
     "name": "stdout",
     "output_type": "stream",
     "text": [
      "String before deletion: Kedar\n",
      "String after deletion: Kear\n"
     ]
    }
   ],
   "source": [
    "#Deletion of the charcter at particular index\n",
    "\n",
    "s='Kedar'\n",
    "index=2 #basically we are deleting a  character at 2nd index\n",
    "\n",
    "print(f\"String before deletion: {s}\")\n",
    "s=s[:index]+s[index+1:]\n",
    "print(f\"String after deletion: {s}\")\n",
    "\n",
    "#This operation is also O(n) fo the same reason : as python has to go through all elements to construct a new string"
   ]
  },
  {
   "cell_type": "code",
   "execution_count": null,
   "id": "f8f7b172",
   "metadata": {},
   "outputs": [],
   "source": [
    "\"\"\"\n",
    "🔷 REAL-LIFE USES OF STRINGS\n",
    "1. Text Processing and NLP\n",
    "Emails, articles, tweets, chats → all strings.\n",
    "\n",
    "Natural Language Processing (NLP) uses string manipulation to clean and analyze this data.\n",
    "\n",
    "Example:\n",
    "\n",
    "Detecting spam: checking if a string contains words like \"free\", \"win\", etc.\n",
    "\n",
    "Sentiment analysis on product reviews.\n",
    "\n",
    "2. Web Development\n",
    "URLs, HTTP requests/responses, HTML code, CSS, JavaScript—all use strings.\n",
    "\n",
    "Example:\n",
    "\n",
    "Parsing a URL to extract the query string.\n",
    "\n",
    "Storing and manipulating form data like name, email.\n",
    "\n",
    "3. File and Path Handling\n",
    "File paths, filenames, and file contents are all strings.\n",
    "\n",
    "Example:\n",
    "\n",
    "Opening \"C:/Users/Kedar/Documents/data.txt\" requires string manipulation.\n",
    "\n",
    "Reading a .log file line-by-line and filtering entries using startswith().\n",
    "\n",
    "4. Databases\n",
    "SQL queries are string-based.\n",
    "\n",
    "Data like names, emails, addresses are stored as strings.\n",
    "\n",
    "Example:\n",
    "\n",
    "\"SELECT * FROM users WHERE name LIKE 'K%' \" — pattern matching in strings.\n",
    "\n",
    "5. Authentication and Security\n",
    "Passwords and tokens are stored and matched using strings.\n",
    "\n",
    "Example:\n",
    "\n",
    "Verifying login: comparing hashed string of password.\n",
    "\n",
    "Validating email format using regex (regular expressions on strings).\n",
    "\n",
    "6. Software Configuration\n",
    ".ini, .json, .xml, .yaml → all config formats use strings for keys/values.\n",
    "\n",
    "Example:\n",
    "\n",
    "\"timeout\": \"30s\" or \"database\": \"postgresql\" — parsed as strings before conversion.\n",
    "\n",
    "\"\"\""
   ]
  }
 ],
 "metadata": {
  "kernelspec": {
   "display_name": "Python 3",
   "language": "python",
   "name": "python3"
  },
  "language_info": {
   "codemirror_mode": {
    "name": "ipython",
    "version": 3
   },
   "file_extension": ".py",
   "mimetype": "text/x-python",
   "name": "python",
   "nbconvert_exporter": "python",
   "pygments_lexer": "ipython3",
   "version": "3.11.7"
  }
 },
 "nbformat": 4,
 "nbformat_minor": 5
}
