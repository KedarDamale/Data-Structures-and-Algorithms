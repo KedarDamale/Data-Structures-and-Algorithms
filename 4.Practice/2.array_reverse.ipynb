{
 "cells": [
  {
   "cell_type": "code",
   "execution_count": 7,
   "id": "a9c5f296",
   "metadata": {},
   "outputs": [
    {
     "name": "stdout",
     "output_type": "stream",
     "text": [
      "[3, 2, 0]\n"
     ]
    }
   ],
   "source": [
    "#using another list\n",
    "\n",
    "def reverse_array(a):\n",
    "    b=[0]*len(a) #or just use a=[] and append in it\n",
    "    \n",
    "    for i in range(0,len(a)):\n",
    "        b[-(i+1)]=a[i]\n",
    "    \n",
    "    return b\n",
    "        \n",
    "print(reverse_array([0,2,3]))\n",
    "        \n",
    "        \n",
    "        \n",
    "        \n",
    "        "
   ]
  },
  {
   "cell_type": "code",
   "execution_count": null,
   "id": "8ce8da04",
   "metadata": {},
   "outputs": [
    {
     "name": "stdout",
     "output_type": "stream",
     "text": [
      "[5, 4, 3, 2, 1]\n"
     ]
    }
   ],
   "source": [
    "#pythonic\n",
    "\n",
    "a=[1,2,3,4,5]\n",
    "b=list(reversed(a)) #retru nobject to save memory not list so typecasting\n",
    "print(b)"
   ]
  },
  {
   "cell_type": "code",
   "execution_count": 11,
   "id": "00b0dacc",
   "metadata": {},
   "outputs": [
    {
     "name": "stdout",
     "output_type": "stream",
     "text": [
      "[5, 4, 3, 2, 1]\n"
     ]
    }
   ],
   "source": [
    "print(a[::-1])"
   ]
  },
  {
   "cell_type": "code",
   "execution_count": null,
   "id": "a7b5c03e",
   "metadata": {},
   "outputs": [
    {
     "name": "stdout",
     "output_type": "stream",
     "text": [
      "[7, 6, 5, 4, 3, 2, 1]\n"
     ]
    }
   ],
   "source": [
    "#inplace reversing\n",
    "\n",
    "a=[1,2,3,4,5,6,7]\n",
    "\n",
    "def inpl_rev(a):\n",
    "    if not a:\n",
    "        return -1\n",
    "    for i in range(0,len(a)//2):\n",
    "        a[i],a[-(i+1)]=a[-(i+1)],a[i]\n",
    "    return a\n",
    "\n",
    "print(inpl_rev(a))"
   ]
  },
  {
   "cell_type": "code",
   "execution_count": 14,
   "id": "8103236a",
   "metadata": {},
   "outputs": [
    {
     "name": "stdout",
     "output_type": "stream",
     "text": [
      "[7, 6, 5, 4, 3, 2, 1]\n"
     ]
    }
   ],
   "source": [
    "#pythonic inplce reversibng\n",
    "\n",
    "a=[1,2,3,4,5,6,7]\n",
    "a.reverse()\n",
    "print(a)"
   ]
  },
  {
   "cell_type": "code",
   "execution_count": null,
   "id": "2a5492e8",
   "metadata": {},
   "outputs": [],
   "source": []
  }
 ],
 "metadata": {
  "kernelspec": {
   "display_name": "Python 3",
   "language": "python",
   "name": "python3"
  },
  "language_info": {
   "codemirror_mode": {
    "name": "ipython",
    "version": 3
   },
   "file_extension": ".py",
   "mimetype": "text/x-python",
   "name": "python",
   "nbconvert_exporter": "python",
   "pygments_lexer": "ipython3",
   "version": "3.11.7"
  }
 },
 "nbformat": 4,
 "nbformat_minor": 5
}
