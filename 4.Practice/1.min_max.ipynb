{
 "cells": [
  {
   "cell_type": "code",
   "execution_count": 29,
   "id": "9961f308",
   "metadata": {},
   "outputs": [],
   "source": [
    "a=[1,112]"
   ]
  },
  {
   "cell_type": "code",
   "execution_count": 30,
   "id": "459eb979",
   "metadata": {},
   "outputs": [],
   "source": [
    "def minmax(a):\n",
    "    min=float(\"+inf\")\n",
    "    max=float(\"-inf\")\n",
    "    \n",
    "    for i in a:\n",
    "        if i > max:\n",
    "            max=i\n",
    "        if i<min:\n",
    "            min=i\n",
    "    return (min,max)"
   ]
  },
  {
   "cell_type": "code",
   "execution_count": 31,
   "id": "59c03236",
   "metadata": {},
   "outputs": [
    {
     "name": "stdout",
     "output_type": "stream",
     "text": [
      "Minimum in the array is 1\n",
      "Maximum in the array is 112\n"
     ]
    }
   ],
   "source": [
    "print(f\"Minimum in the array is {minmax(a)[0]}\")\n",
    "print(f\"Maximum in the array is {minmax(a)[-1]}\")"
   ]
  },
  {
   "cell_type": "code",
   "execution_count": 32,
   "id": "29fe3bdb",
   "metadata": {},
   "outputs": [
    {
     "name": "stdout",
     "output_type": "stream",
     "text": [
      "Minimum in the array is 1\n",
      "Maximum in the array is 112\n"
     ]
    }
   ],
   "source": [
    "#Without usinf infinity logic\n",
    "\n",
    "def minmax(a):\n",
    "    if not a:\n",
    "        print(\"list is empty\")\n",
    "        \n",
    "    min,max=a[0],a[0]\n",
    "    \n",
    "    for i in a:\n",
    "        if i>max:\n",
    "            max=i\n",
    "        if i<min:\n",
    "            min=i\n",
    "    return (min,max)        \n",
    "\n",
    "print(f\"Minimum in the array is {minmax(a)[0]}\")\n",
    "print(f\"Maximum in the array is {minmax(a)[-1]}\")"
   ]
  },
  {
   "cell_type": "code",
   "execution_count": 33,
   "id": "db14608b",
   "metadata": {},
   "outputs": [
    {
     "name": "stdout",
     "output_type": "stream",
     "text": [
      "Minimum in the array is 1\n",
      "Maximum in the array is 112\n"
     ]
    }
   ],
   "source": [
    "#By pythonic logic\n",
    "\n",
    "a.sort()\n",
    "print(f\"Minimum in the array is {a[0]}\")\n",
    "print(f\"Maximum in the array is {a[-1]}\")"
   ]
  }
 ],
 "metadata": {
  "kernelspec": {
   "display_name": "Python 3",
   "language": "python",
   "name": "python3"
  },
  "language_info": {
   "codemirror_mode": {
    "name": "ipython",
    "version": 3
   },
   "file_extension": ".py",
   "mimetype": "text/x-python",
   "name": "python",
   "nbconvert_exporter": "python",
   "pygments_lexer": "ipython3",
   "version": "3.11.7"
  }
 },
 "nbformat": 4,
 "nbformat_minor": 5
}
