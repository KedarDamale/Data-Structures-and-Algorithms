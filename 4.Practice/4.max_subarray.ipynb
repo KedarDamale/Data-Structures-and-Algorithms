{
 "cells": [
  {
   "cell_type": "code",
   "execution_count": null,
   "id": "92d0b5e6",
   "metadata": {},
   "outputs": [],
   "source": [
    "\"\"\"\n",
    "Also known as kadanes algorithm\n",
    "\"\"\""
   ]
  },
  {
   "cell_type": "code",
   "execution_count": null,
   "id": "6cec7f7c",
   "metadata": {},
   "outputs": [],
   "source": [
    "a=[-2, 1, -3, 4, -1, 2, -5]\n",
    "\n",
    "def max_sub_array(a):\n",
    "    maxi=float(\"-inf\")\n",
    "    curr=0\n",
    "    if not a:\n",
    "        return 0\n",
    "    for i in a:\n",
    "        curr+=i\n",
    "        maxi=max(maxi,curr)\n",
    "        if curr<0:\n",
    "            curr=0\n",
    "    return maxi\n",
    "\n",
    "max_sub_array(a)\n",
    "    "
   ]
  }
 ],
 "metadata": {
  "language_info": {
   "name": "python"
  }
 },
 "nbformat": 4,
 "nbformat_minor": 5
}
