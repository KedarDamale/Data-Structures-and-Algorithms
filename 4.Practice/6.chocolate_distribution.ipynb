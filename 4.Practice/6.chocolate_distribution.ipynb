{
 "cells": [
  {
   "cell_type": "code",
   "execution_count": 4,
   "id": "9866f97d",
   "metadata": {},
   "outputs": [
    {
     "name": "stdout",
     "output_type": "stream",
     "text": [
      "7\n"
     ]
    }
   ],
   "source": [
    "def chocolate_dis(arr, num):\n",
    "    if num == 0 or len(arr) == 0 or num > len(arr):\n",
    "        return 0  \n",
    "    \n",
    "    arr.sort()\n",
    "    min_diff = float(\"inf\")\n",
    "\n",
    "    # Try all windows of size 'num'\n",
    "    for i in range(len(arr) - num + 1): \n",
    "        diff = arr[i + num - 1] - arr[i] \n",
    "        if diff < min_diff:\n",
    "            min_diff = diff\n",
    "\n",
    "    return min_diff\n",
    "\n",
    "# \n",
    "a = [7, 3, 2, 4, 9, 12, 56]\n",
    "print(chocolate_dis(a, 5)) \n"
   ]
  }
 ],
 "metadata": {
  "kernelspec": {
   "display_name": "Python 3",
   "language": "python",
   "name": "python3"
  },
  "language_info": {
   "codemirror_mode": {
    "name": "ipython",
    "version": 3
   },
   "file_extension": ".py",
   "mimetype": "text/x-python",
   "name": "python",
   "nbconvert_exporter": "python",
   "pygments_lexer": "ipython3",
   "version": "3.11.7"
  }
 },
 "nbformat": 4,
 "nbformat_minor": 5
}
