{
 "cells": [
  {
   "cell_type": "code",
   "execution_count": 3,
   "id": "eb77cfd0",
   "metadata": {},
   "outputs": [
    {
     "name": "stdout",
     "output_type": "stream",
     "text": [
      "[1, 2, 3, 4, 7, 89]\n"
     ]
    }
   ],
   "source": [
    "def remove_dupes(a):\n",
    "    b=[]\n",
    "    for i in a:\n",
    "        if i in b:\n",
    "            pass\n",
    "        else:\n",
    "            b.append(i)\n",
    "    return b\n",
    "print(remove_dupes([1,2,3,4,7,7,89,3]))"
   ]
  },
  {
   "cell_type": "code",
   "execution_count": 4,
   "id": "3464ec59",
   "metadata": {},
   "outputs": [
    {
     "name": "stdout",
     "output_type": "stream",
     "text": [
      "[-2, 1, -3, 4, -1, 2, -5]\n"
     ]
    }
   ],
   "source": [
    "def remove_dupes_inpl(a):\n",
    "    seen = set()\n",
    "    i = 0\n",
    "    while i < len(a):\n",
    "        if a[i] in seen:\n",
    "            del a[i]  # delete from the actual list\n",
    "        else:\n",
    "            seen.add(a[i])\n",
    "            i += 1\n",
    "    print(a)\n",
    "\n",
    "a = [-2,1,-3,4,-1,2,1,-5,4]\n",
    "remove_dupes_inpl(a)\n"
   ]
  },
  {
   "cell_type": "code",
   "execution_count": null,
   "id": "7e775a66",
   "metadata": {},
   "outputs": [
    {
     "data": {
      "text/plain": [
       "5"
      ]
     },
     "execution_count": 7,
     "metadata": {},
     "output_type": "execute_result"
    }
   ],
   "source": []
  }
 ],
 "metadata": {
  "kernelspec": {
   "display_name": "Python 3",
   "language": "python",
   "name": "python3"
  },
  "language_info": {
   "codemirror_mode": {
    "name": "ipython",
    "version": 3
   },
   "file_extension": ".py",
   "mimetype": "text/x-python",
   "name": "python",
   "nbconvert_exporter": "python",
   "pygments_lexer": "ipython3",
   "version": "3.11.7"
  }
 },
 "nbformat": 4,
 "nbformat_minor": 5
}
