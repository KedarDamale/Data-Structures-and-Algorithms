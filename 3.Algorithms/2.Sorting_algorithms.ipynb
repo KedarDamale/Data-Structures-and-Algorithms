{
 "cells": [
  {
   "cell_type": "markdown",
   "id": "f9ccc63f",
   "metadata": {},
   "source": [
    "# **Bubble Sort**"
   ]
  },
  {
   "cell_type": "markdown",
   "id": "1c889a30",
   "metadata": {},
   "source": [
    "# **Insertion Sort**"
   ]
  },
  {
   "cell_type": "markdown",
   "id": "ca018e7a",
   "metadata": {},
   "source": [
    "# **Selection Sort**"
   ]
  },
  {
   "cell_type": "markdown",
   "id": "82dcff8a",
   "metadata": {},
   "source": [
    "# **Merge Sort**"
   ]
  },
  {
   "cell_type": "markdown",
   "id": "dca5203a",
   "metadata": {},
   "source": [
    "# **Quick Sort**"
   ]
  },
  {
   "cell_type": "markdown",
   "id": "d6c375b7",
   "metadata": {},
   "source": [
    "# **Counting Sort**"
   ]
  }
 ],
 "metadata": {
  "language_info": {
   "name": "python"
  }
 },
 "nbformat": 4,
 "nbformat_minor": 5
}
