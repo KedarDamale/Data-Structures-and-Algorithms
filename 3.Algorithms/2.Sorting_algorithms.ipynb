{
 "cells": [
  {
   "cell_type": "markdown",
   "id": "f9ccc63f",
   "metadata": {},
   "source": [
    "# **Bubble Sort**"
   ]
  },
  {
   "cell_type": "code",
   "execution_count": null,
   "id": "016df96c",
   "metadata": {},
   "outputs": [
    {
     "data": {
      "text/plain": [
       "[-56, -6, -5, 2, 3, 3, 4, 4, 7, 8, 9, 12, 23, 34]"
      ]
     },
     "execution_count": 23,
     "metadata": {},
     "output_type": "execute_result"
    }
   ],
   "source": [
    "def bubble_sort(arr):\n",
    "    # Step 1: Get the length of the array\n",
    "    # This tells us how many elements we need to sort\n",
    "    n = len(arr)\n",
    "\n",
    "    # Step 2: Initialize a flag to True to enter the while loop\n",
    "    # The flag acts as a signal to check if the array is already sorted\n",
    "    # If no swaps happen in a pass, the array is sorted and the loop can break early\n",
    "    flag = True  # initially assume the array is not sorted\n",
    "\n",
    "    # Step 3: Run the loop until no more swaps are needed\n",
    "    while flag:\n",
    "        # Before starting the pass, set flag to False\n",
    "        # If any swap occurs in this pass, we'll set it back to True\n",
    "        flag = False\n",
    "\n",
    "        # Step 4: Loop through the array from index 1 to n-1\n",
    "        # We compare each element with its previous one\n",
    "        for i in range(1, n):\n",
    "            # Step 5: If the current element is smaller than the previous one,\n",
    "            # they are out of order, so we swap them\n",
    "            if arr[i - 1] > arr[i]:\n",
    "                # A swap means the array was not sorted in this pass,\n",
    "                # so we set flag to True to indicate another pass is needed\n",
    "                flag = True\n",
    "\n",
    "                # Step 6: Swap the elements to put them in the correct order\n",
    "                arr[i - 1], arr[i] = arr[i], arr[i - 1]\n",
    "\n",
    "        # Note: Each iteration of the `while` loop performs a full pass\n",
    "        # If a pass completes with no swaps, then `flag` remains False\n",
    "        # and the loop ends — the array is now sorted\n",
    "\n",
    "# Create a list of integers (unsorted)\n",
    "a = [-5, 3, 2, 3, 4, -6, 12, 23, -56, 34, 4, 7, 8, 9]\n",
    "\n",
    "# Call the bubble_sort function to sort the list in-place\n",
    "bubble_sort(a)\n",
    "\n",
    "# After sorting, the original list `a` is now sorted in ascending order\n",
    "print(a)  # Output: [-56, -6, -5, 2, 3, 3, 4, 4, 7, 8, 9, 12, 23, 34]\n"
   ]
  },
  {
   "cell_type": "markdown",
   "id": "1c889a30",
   "metadata": {},
   "source": [
    "# **Insertion Sort**"
   ]
  },
  {
   "cell_type": "code",
   "execution_count": null,
   "id": "f877e479",
   "metadata": {},
   "outputs": [
    {
     "name": "stdout",
     "output_type": "stream",
     "text": [
      "[-56, -6, 2, 3, 3, 4, 4, 7, 8, 9, 12, 23, 34, 8895]\n"
     ]
    }
   ],
   "source": [
    "def insertion_sort(arr):\n",
    "    # Step 1: Get the length of the array\n",
    "    # This determines how many elements we need to process\n",
    "    length = len(arr)\n",
    "\n",
    "    # Step 2: Start from index 1 (second element) and go till the end\n",
    "    # Because the first element (index 0) is already trivially \"sorted\"\n",
    "    for i in range(1, length):\n",
    "\n",
    "        # Step 3: Start a nested loop to compare the current element with elements before it\n",
    "        # j = i means we’re about to insert arr[i] into the sorted portion on the left\n",
    "        for j in range(i, 0, -1):  # move backward from i to 1 (inclusive of 1, exclusive of 0)\n",
    "            \n",
    "            # Step 4: If the element to the left is greater than the current element,\n",
    "            # it means they are out of order and must be swapped\n",
    "            if arr[j - 1] > arr[j]:\n",
    "                # Swap them — this pushes the smaller element leftward until it's in the right position\n",
    "                arr[j - 1], arr[j] = arr[j], arr[j - 1]\n",
    "            \n",
    "            else:\n",
    "                # Step 5: If the element to the left is not greater, no more shifting needed\n",
    "                # because everything before is already sorted\n",
    "                break\n",
    "\n",
    "        # After inner loop ends, arr[0..i] is sorted\n",
    "\n",
    "# Sample unsorted array\n",
    "a = [8895, 3, 2, 3, 4, -6, 12, 23, -56, 34, 4, 7, 8, 9]\n",
    "\n",
    "# Call the insertion sort function\n",
    "insertion_sort(a)\n",
    "\n",
    "# Print the sorted array\n",
    "print(a)  # Output: [-56, -6, 2, 3, 3, 4, 4, 7, 8, 9, 12, 23, 34, 8895]\n"
   ]
  },
  {
   "cell_type": "markdown",
   "id": "ca018e7a",
   "metadata": {},
   "source": [
    "# **Selection Sort**"
   ]
  },
  {
   "cell_type": "code",
   "execution_count": null,
   "id": "7dfcdd9b",
   "metadata": {},
   "outputs": [
    {
     "name": "stdout",
     "output_type": "stream",
     "text": [
      "[-56, -6, 2, 3, 3, 4, 4, 7, 8, 9, 12, 23, 34, 8895]\n"
     ]
    }
   ],
   "source": [
    "def selection_sort(arr):\n",
    "    # Step 1: Get the length of the array\n",
    "    length = len(arr)\n",
    "\n",
    "    # Step 2: Loop through each element of the array from index 0 to n-1\n",
    "    # In each iteration, we'll place the correct element at index `i`\n",
    "    for i in range(0, length):\n",
    "\n",
    "        # Step 3: Assume the current index has the minimum value\n",
    "        # This will be updated if we find a smaller element in the rest of the array\n",
    "        min_index = i\n",
    "\n",
    "        # Step 4: Start checking all elements to the right of `i` (i+1 to end)\n",
    "        for j in range(i + 1, length):\n",
    "            # If any element is smaller than the current minimum,\n",
    "            # we update the min_index to this new position\n",
    "            if arr[j] < arr[min_index]:\n",
    "                min_index = j\n",
    "\n",
    "        # Step 5: After finding the minimum element in the unsorted portion,\n",
    "        # swap it with the element at index `i`\n",
    "        # This puts the smallest element at its correct sorted position\n",
    "        arr[i], arr[min_index] = arr[min_index], arr[i]\n",
    "\n",
    "        # Now, the subarray arr[0...i] is sorted\n",
    "\n",
    "# Sample unsorted array\n",
    "arr = [8895, 3, 2, 3, 4, -6, 12, 23, -56, 34, 4, 7, 8, 9]\n",
    "\n",
    "# Call the selection sort function to sort the array in-place\n",
    "selection_sort(arr)\n",
    "\n",
    "# Print the sorted array after the sort completes\n",
    "print(arr)  # Output: [-56, -6, 2, 3, 3, 4, 4, 7, 8, 9, 12, 23, 34, 8895]"
   ]
  },
  {
   "cell_type": "markdown",
   "id": "82dcff8a",
   "metadata": {},
   "source": [
    "# **Merge Sort**"
   ]
  },
  {
   "cell_type": "code",
   "execution_count": null,
   "id": "af1866bb",
   "metadata": {},
   "outputs": [
    {
     "name": "stdout",
     "output_type": "stream",
     "text": [
      "[-56, -6, 2, 3, 3, 4, 4, 7, 8, 9, 12, 23, 34, 8895]\n"
     ]
    }
   ],
   "source": [
    "def merge_sort(arr):\n",
    "    # Step 1: Get the length of the input array\n",
    "    n = len(arr)\n",
    "\n",
    "    # Step 2: Base case – if the array has only one element, it's already sorted\n",
    "    # So we return it as is (this will help during recursion)\n",
    "    if n == 1:\n",
    "        return arr\n",
    "\n",
    "    # Step 3: Find the middle index to split the array into two halves\n",
    "    middle = n // 2\n",
    "\n",
    "    # Step 4: Divide the array into left and right halves\n",
    "    L = arr[:middle]   # Left half (from start to middle - 1)\n",
    "    R = arr[middle:]   # Right half (from middle to end)\n",
    "\n",
    "    # Step 5: Recursively sort the left and right halves\n",
    "    # This continues dividing until each half has one element\n",
    "    L = merge_sort(L)\n",
    "    R = merge_sort(R)\n",
    "\n",
    "    # Step 6: Initialize lengths of both sorted halves for merging\n",
    "    L_len = len(L)\n",
    "    R_len = len(R)\n",
    "\n",
    "    # Step 7: Initialize pointers for left (l), right (r), and final merged array index (i)\n",
    "    l, r = 0, 0\n",
    "    i = 0\n",
    "\n",
    "    # Step 8: Preallocate a list to hold the merged sorted array\n",
    "    sorted_arr = [0] * n\n",
    "\n",
    "    # Step 9: Merge the two sorted halves into one sorted array\n",
    "    while l < L_len and r < R_len:\n",
    "        # Compare current elements from both lists and pick the smaller one\n",
    "        if L[l] < R[r]:\n",
    "            sorted_arr[i] = L[l]\n",
    "            l += 1  # Move pointer in left list\n",
    "        else:\n",
    "            sorted_arr[i] = R[r]\n",
    "            r += 1  # Move pointer in right list\n",
    "        i += 1  # Move pointer in merged list\n",
    "\n",
    "    # Step 10: If any elements are left in L, copy them\n",
    "    while l < L_len:\n",
    "        sorted_arr[i] = L[l]\n",
    "        l += 1\n",
    "        i += 1\n",
    "\n",
    "    # Step 11: If any elements are left in R, copy them\n",
    "    while r < R_len:\n",
    "        sorted_arr[i] = R[r]\n",
    "        r += 1\n",
    "        i += 1\n",
    "\n",
    "    # Step 12: Return the fully merged and sorted array\n",
    "    return sorted_arr\n",
    "\n",
    "# Sample unsorted array\n",
    "arr = [8895, 3, 2, 3, 4, -6, 12, 23, -56, 34, 4, 7, 8, 9]\n",
    "\n",
    "\n",
    "# Print the sorted array after the sort completes\n",
    "print(merge_sort(arr))  # Output: [-56, -6, 2, 3, 3, 4, 4, 7, 8, 9, 12, 23, 34, 8895]"
   ]
  },
  {
   "cell_type": "markdown",
   "id": "dca5203a",
   "metadata": {},
   "source": [
    "# **Quick Sort**"
   ]
  }
 ],
 "metadata": {
  "kernelspec": {
   "display_name": "Python 3",
   "language": "python",
   "name": "python3"
  },
  "language_info": {
   "codemirror_mode": {
    "name": "ipython",
    "version": 3
   },
   "file_extension": ".py",
   "mimetype": "text/x-python",
   "name": "python",
   "nbconvert_exporter": "python",
   "pygments_lexer": "ipython3",
   "version": "3.11.7"
  }
 },
 "nbformat": 4,
 "nbformat_minor": 5
}
