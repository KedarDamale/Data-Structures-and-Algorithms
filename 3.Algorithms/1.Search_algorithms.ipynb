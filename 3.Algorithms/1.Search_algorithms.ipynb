{
 "cells": [
  {
   "cell_type": "markdown",
   "id": "b14a0018",
   "metadata": {},
   "source": [
    "# **Search Algorithms**"
   ]
  },
  {
   "cell_type": "code",
   "execution_count": null,
   "id": "edd15cf4",
   "metadata": {},
   "outputs": [],
   "source": [
    "#Searching algorithms are a class of algorithms used to \n",
    "# find the location of a specific element or set of elements \n",
    "# in a data structure (like an array, list, tree, or graph)."
   ]
  },
  {
   "cell_type": "code",
   "execution_count": 1,
   "id": "4d13e59f",
   "metadata": {},
   "outputs": [],
   "source": [
    "# Searching algorithms can be categorized into two major types:\n",
    "\n",
    "\n",
    "# 1. Linear or Sequential Search\n",
    "# Goes through each element one by one.\n",
    "# ✅ Easy to implement.\n",
    "# ❌ Inefficient for large datasets.\n",
    "\n",
    "\n",
    "# 2. Binary Search (Divide & Conquer)\n",
    "# Works on sorted data only.\n",
    "# Repeatedly divides the dataset in half to narrow down the search.\n",
    "# ✅ Very efficient: O(log n)\n",
    "# ❌ Cannot work on unsorted data."
   ]
  },
  {
   "cell_type": "markdown",
   "id": "6082b979",
   "metadata": {},
   "source": [
    "## Linear Search"
   ]
  },
  {
   "cell_type": "code",
   "execution_count": 12,
   "id": "096a3b77",
   "metadata": {},
   "outputs": [
    {
     "name": "stdout",
     "output_type": "stream",
     "text": [
      "[0, 9]\n"
     ]
    }
   ],
   "source": [
    "a=[1,2,3,4,5,6,7,8,9,1,2,3,4,68,325,8709,24]\n",
    "\n",
    "number=int(input(\"Enter a number to find in the given array: \"))\n",
    "\n",
    "def linear_search(l,num):\n",
    "    \n",
    "    found_indices=[]\n",
    "    \n",
    "    for idx,i in enumerate(l):\n",
    "        if i==num:\n",
    "            found_indices.append(idx)\n",
    "        else:\n",
    "            pass\n",
    "    \n",
    "    if found_indices:\n",
    "        return found_indices\n",
    "    else:\n",
    "        return f\"Element is not present in this list\"\n",
    "\n",
    "\n",
    "print(linear_search(a,number))\n",
    "        \n",
    "        \n",
    "    "
   ]
  },
  {
   "cell_type": "markdown",
   "id": "62dc9959",
   "metadata": {},
   "source": [
    "## Binary Search"
   ]
  },
  {
   "cell_type": "code",
   "execution_count": null,
   "id": "d07ae29a",
   "metadata": {},
   "outputs": [],
   "source": [
    "a=[1,2,3,4,5,6,7,8,9]\n",
    "\n",
    "def binary_search(arr,num):\n",
    "    sorted_arr=arr.sort()\n"
   ]
  }
 ],
 "metadata": {
  "kernelspec": {
   "display_name": "Python 3",
   "language": "python",
   "name": "python3"
  },
  "language_info": {
   "codemirror_mode": {
    "name": "ipython",
    "version": 3
   },
   "file_extension": ".py",
   "mimetype": "text/x-python",
   "name": "python",
   "nbconvert_exporter": "python",
   "pygments_lexer": "ipython3",
   "version": "3.11.7"
  }
 },
 "nbformat": 4,
 "nbformat_minor": 5
}
