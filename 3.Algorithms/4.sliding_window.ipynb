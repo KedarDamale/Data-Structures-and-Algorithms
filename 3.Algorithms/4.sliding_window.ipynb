{
 "cells": [
  {
   "cell_type": "markdown",
   "id": "093deba7",
   "metadata": {},
   "source": [
    "# **Constant Sliding Window**"
   ]
  },
  {
   "cell_type": "code",
   "execution_count": null,
   "id": "f0a9b5c7",
   "metadata": {},
   "outputs": [],
   "source": [
    "#Used to solve questions likke substring or subarray"
   ]
  },
  {
   "cell_type": "markdown",
   "id": "46d659ce",
   "metadata": {},
   "source": [
    "# **Variable Sliding Window**"
   ]
  },
  {
   "cell_type": "code",
   "execution_count": null,
   "id": "9b9fc244",
   "metadata": {},
   "outputs": [],
   "source": [
    "#logest substring without repeating characters\n",
    "\n"
   ]
  }
 ],
 "metadata": {
  "language_info": {
   "name": "python"
  }
 },
 "nbformat": 4,
 "nbformat_minor": 5
}
