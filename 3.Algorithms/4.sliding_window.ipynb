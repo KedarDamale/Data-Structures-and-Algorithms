{
 "cells": [
  {
   "cell_type": "markdown",
   "id": "093deba7",
   "metadata": {},
   "source": [
    "# **Constant Sliding Window**"
   ]
  },
  {
   "cell_type": "markdown",
   "id": "46d659ce",
   "metadata": {},
   "source": [
    "# **Variable Sliding Window**"
   ]
  }
 ],
 "metadata": {
  "language_info": {
   "name": "python"
  }
 },
 "nbformat": 4,
 "nbformat_minor": 5
}
