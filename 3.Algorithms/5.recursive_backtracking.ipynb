{
 "cells": [
  {
   "cell_type": "code",
   "execution_count": null,
   "id": "34038384",
   "metadata": {},
   "outputs": [],
   "source": [
    "\"\"\"\n",
    "🔍 What is Recursive Backtracking?\n",
    "\n",
    "Backtracking is a depth-first search strategy where you try to build a solution incrementally, and:\n",
    "\n",
    "If at any step the current path violates constraints, you backtrack (undo the last choice) and try the next option.\n",
    "\n",
    "It's used when we have to explore all possibilities and discard partial solutions that don’t lead to valid answers.\n",
    "\n",
    "Backtracking always works with recursion—so you try a path, call the function recursively, and backtrack when needed.\n",
    "\n",
    "\"\"\""
   ]
  },
  {
   "cell_type": "code",
   "execution_count": null,
   "id": "5b309eb3",
   "metadata": {},
   "outputs": [],
   "source": [
    "\"\"\"\n",
    "Process:\n",
    "    Make decision\n",
    "    Recursion\n",
    "    Base case\n",
    "    Undo decisions\n",
    "\n",
    "Such method is applied when there is a exhastive solution means where you need to find all possible answers \n",
    "\n",
    "\"\"\""
   ]
  },
  {
   "cell_type": "code",
   "execution_count": null,
   "id": "d4e852ac",
   "metadata": {},
   "outputs": [],
   "source": [
    "#Given an array return all possible sets which must not contain a duplicate value also there should be a null set also\n",
    "\n",
    "def subsets(nums):\n",
    "    "
   ]
  }
 ],
 "metadata": {
  "kernelspec": {
   "display_name": "Python 3",
   "language": "python",
   "name": "python3"
  },
  "language_info": {
   "codemirror_mode": {
    "name": "ipython",
    "version": 3
   },
   "file_extension": ".py",
   "mimetype": "text/x-python",
   "name": "python",
   "nbconvert_exporter": "python",
   "pygments_lexer": "ipython3",
   "version": "3.11.7"
  }
 },
 "nbformat": 4,
 "nbformat_minor": 5
}
