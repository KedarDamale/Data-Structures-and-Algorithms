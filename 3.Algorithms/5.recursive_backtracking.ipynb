{
 "cells": [
  {
   "cell_type": "code",
   "execution_count": null,
   "id": "34038384",
   "metadata": {},
   "outputs": [],
   "source": [
    "\"\"\"\n",
    "🔍 What is Recursive Backtracking?\n",
    "\n",
    "Backtracking is a depth-first search strategy where you try to build a solution incrementally, and:\n",
    "\n",
    "If at any step the current path violates constraints, you backtrack (undo the last choice) and try the next option.\n",
    "\n",
    "It's used when we have to explore all possibilities and discard partial solutions that don’t lead to valid answers.\n",
    "\n",
    "Backtracking always works with recursion—so you try a path, call the function recursively, and backtrack when needed.\n",
    "\n",
    "\"\"\""
   ]
  },
  {
   "cell_type": "code",
   "execution_count": null,
   "id": "5b309eb3",
   "metadata": {},
   "outputs": [],
   "source": [
    "\"\"\"\n",
    "Process:\n",
    "    Make decision\n",
    "    Recursion\n",
    "    Base case\n",
    "    Undo decisions\n",
    "\n",
    "Such method is applied when there is a exhastive solution means where you need to find all possible answers \n",
    "\n",
    "\"\"\""
   ]
  },
  {
   "cell_type": "code",
   "execution_count": 4,
   "id": "d4e852ac",
   "metadata": {},
   "outputs": [
    {
     "data": {
      "text/plain": [
       "[[], [2], [1], [1, 2]]"
      ]
     },
     "execution_count": 4,
     "metadata": {},
     "output_type": "execute_result"
    }
   ],
   "source": [
    "#Given an array return all possible sets which must not contain a duplicate value also there should be a null set also\n",
    "\n",
    "def subsets(nums):\n",
    "    global_result=[] #list for leaf nodes\n",
    "    var_sol=[] #temporarary list  for the nodes that we will be deleting after #in all recursive backtracking problems you will see these two lists\n",
    "    \n",
    "    n=len(nums)\n",
    "    \n",
    "    def backtrack(i):\n",
    "        if i==n:\n",
    "            global_result.append(var_sol[:]) #here we are gviing the copy of var__sol not var_sol othervise it would give it refernce of that\n",
    "            return\n",
    "\n",
    "        #Dont pick nums at i\n",
    "        backtrack(i+1)\n",
    "        \n",
    "        #pick at nums at i  \n",
    "        var_sol.append(nums[i])\n",
    "        backtrack(i+1)\n",
    "        var_sol.pop() #we are undoing the sub solution things that we put in\n",
    "        \n",
    "    \n",
    "    backtrack(0)#first index from where we are going to start the recursive backtracking\n",
    "    \n",
    "    return global_result\n",
    "\n",
    "subsets([1,2])"
   ]
  }
 ],
 "metadata": {
  "kernelspec": {
   "display_name": "Python 3",
   "language": "python",
   "name": "python3"
  },
  "language_info": {
   "codemirror_mode": {
    "name": "ipython",
    "version": 3
   },
   "file_extension": ".py",
   "mimetype": "text/x-python",
   "name": "python",
   "nbconvert_exporter": "python",
   "pygments_lexer": "ipython3",
   "version": "3.11.7"
  }
 },
 "nbformat": 4,
 "nbformat_minor": 5
}
