{
 "cells": [
  {
   "cell_type": "code",
   "execution_count": null,
   "id": "cf99f8e6",
   "metadata": {},
   "outputs": [],
   "source": [
    "#Sorted Squares\n",
    "\n",
    "#input=[-3,2,4,5,8] sorted array\n",
    "#output-prev=[9,4,16,25,64]\n",
    "#final_output=[4,9,16,25,64] sorted basically"
   ]
  },
  {
   "cell_type": "code",
   "execution_count": null,
   "id": "5a205b64",
   "metadata": {},
   "outputs": [],
   "source": [
    "def sorted_squares(arr):\n",
    "    arr.sort()  \n",
    "    L = 0\n",
    "    R = len(arr) - 1\n",
    "    result = []\n",
    "\n",
    "    while L <= R:\n",
    "        if abs(arr[L]) > abs(arr[R]):\n",
    "            result.append(arr[L] ** 2)\n",
    "            L += 1\n",
    "        else:\n",
    "            result.append(arr[R] ** 2)\n",
    "            R -= 1\n",
    "\n",
    "    return result[::-1]\n",
    "\n",
    "arr = [1, 2, 5, 6, 7, 9, -1, 5, -6, -8, -1, -3, -5.7, 8, 2, 4, 5]\n",
    "print(sorted_squares(arr))\n"
   ]
  }
 ],
 "metadata": {
  "kernelspec": {
   "display_name": "Python 3",
   "language": "python",
   "name": "python3"
  },
  "language_info": {
   "codemirror_mode": {
    "name": "ipython",
    "version": 3
   },
   "file_extension": ".py",
   "mimetype": "text/x-python",
   "name": "python",
   "nbconvert_exporter": "python",
   "pygments_lexer": "ipython3",
   "version": "3.11.7"
  }
 },
 "nbformat": 4,
 "nbformat_minor": 5
}
